{
  "nbformat": 4,
  "nbformat_minor": 0,
  "metadata": {
    "kernelspec": {
      "display_name": "Python 3",
      "language": "python",
      "name": "python3"
    },
    "language_info": {
      "codemirror_mode": {
        "name": "ipython",
        "version": 3
      },
      "file_extension": ".py",
      "mimetype": "text/x-python",
      "name": "python",
      "nbconvert_exporter": "python",
      "pygments_lexer": "ipython3",
      "version": "3.6.8"
    },
    "colab": {
      "name": "ДЗ 2 Numpy",
      "provenance": [],
      "collapsed_sections": []
    }
  },
  "cells": [
    {
      "cell_type": "markdown",
      "metadata": {
        "id": "rt7rnNMZ8SYb"
      },
      "source": [
        "# Нейронные сети\n",
        "\n",
        "## Домашнее задание 2. Numpy и функции\n",
        "\n",
        "# Light"
      ]
    },
    {
      "cell_type": "markdown",
      "metadata": {
        "id": "x3viGq298SYv"
      },
      "source": [
        "### Задача 1\n",
        "\n",
        "1. Перейдите по ссылке https://drive.google.com/open?id=1ngnrhmoMInequrA6JyAe90lEPhcbi0iH\n",
        "\n",
        "\n",
        "2. Сохраните файл на вашем google drive (скачивать на пк не нужно)\n",
        "\n",
        "\n",
        "3. Присоедините google drive к ноутбуку\n",
        "\n",
        "\n",
        "4. Откройте файл **train_vector_1.csv** с помощью функции **np.loadtxt**, указав полный путь до файла на google drive"
      ]
    },
    {
      "cell_type": "code",
      "metadata": {
        "id": "nUv2H2AmSfI3",
        "colab": {
          "base_uri": "https://localhost:8080/",
          "height": 122
        },
        "outputId": "9ea8896d-b606-43ea-dc9b-44e5fac6bffb"
      },
      "source": [
        "from google.colab import drive\n",
        "drive.mount ('/content/drive')\n"
      ],
      "execution_count": null,
      "outputs": [
        {
          "output_type": "stream",
          "text": [
            "Go to this URL in a browser: https://accounts.google.com/o/oauth2/auth?client_id=947318989803-6bn6qk8qdgf4n4g3pfee6491hc0brc4i.apps.googleusercontent.com&redirect_uri=urn%3aietf%3awg%3aoauth%3a2.0%3aoob&scope=email%20https%3a%2f%2fwww.googleapis.com%2fauth%2fdocs.test%20https%3a%2f%2fwww.googleapis.com%2fauth%2fdrive%20https%3a%2f%2fwww.googleapis.com%2fauth%2fdrive.photos.readonly%20https%3a%2f%2fwww.googleapis.com%2fauth%2fpeopleapi.readonly&response_type=code\n",
            "\n",
            "Enter your authorization code:\n",
            "··········\n",
            "Mounted at /content/drive\n"
          ],
          "name": "stdout"
        }
      ]
    },
    {
      "cell_type": "code",
      "metadata": {
        "id": "lSvgukorUSBa",
        "colab": {
          "base_uri": "https://localhost:8080/",
          "height": 170
        },
        "outputId": "53285a00-57bd-4e81-e20f-64712c4b658f"
      },
      "source": [
        "import numpy as np\n",
        "my_data=np.loadtxt('/content/drive/My Drive/Bases/train_vector_1.csv')\n",
        "print(my_data)"
      ],
      "execution_count": null,
      "outputs": [
        {
          "output_type": "stream",
          "text": [
            "[3.5 3.  3.2 3.1 3.6 3.9 3.4 3.4 2.9 3.1 3.7 3.4 3.  3.  4.  4.4 3.9 3.5\n",
            " 3.8 3.8 3.4 3.7 3.6 3.3 3.4 3.  3.4 3.5 3.4 3.2 3.1 3.4 4.1 4.2 3.1 3.2\n",
            " 3.5 3.6 3.  3.4 3.5 2.3 3.2 3.5 3.8 3.  3.8 3.2 3.7 3.3 3.2 3.2 3.1 2.3\n",
            " 2.8 2.8 3.3 2.4 2.9 2.7 2.  3.  2.2 2.9 2.9 3.1 3.  2.7 2.2 2.5 3.2 2.8\n",
            " 2.5 2.8 2.9 3.  2.8 3.  2.9 2.6 2.4 2.4 2.7 2.7 3.  3.4 3.1 2.3 3.  2.5\n",
            " 2.6 3.  2.6 2.3 2.7 3.  2.9 2.9 2.5 2.8 3.3 2.7 3.  2.9 3.  3.  2.5 2.9\n",
            " 2.5 3.6 3.2 2.7 3.  2.5 2.8 3.2 3.  3.8 2.6 2.2 3.2 2.8 2.8 2.7 3.3 3.2\n",
            " 2.8 3.  2.8 3.  2.8 3.8 2.8 2.8 2.6 3.  3.4 3.1 3.  3.1 3.1 3.1 2.7 3.2\n",
            " 3.3 3.  2.5 3.  3.4 3. ]\n"
          ],
          "name": "stdout"
        }
      ]
    },
    {
      "cell_type": "markdown",
      "metadata": {
        "id": "jF4lkDmhisfC"
      },
      "source": [
        "### Задача 2\n",
        "\n",
        "1. Перейдите по ссылке https://drive.google.com/open?id=1ngnrhmoMInequrA6JyAe90lEPhcbi0iH\n",
        "\n",
        "2. Сохраните файл на пк (в этой задаче пользоваться google drive не нужно)\n",
        "\n",
        "3. Нажмите слева на значок папки и перетащите файл с пк в появившееся поле\n",
        "\n",
        "4. Откройте файл **train_vector_1.csv** с помощью функции **np.loadtxt**, указав полный или относительный путь до файла"
      ]
    },
    {
      "cell_type": "code",
      "metadata": {
        "id": "qH-sF6TXeE1y",
        "colab": {
          "base_uri": "https://localhost:8080/",
          "height": 170
        },
        "outputId": "8bf0fe88-c2be-40c5-fddd-0fef780c6fbd"
      },
      "source": [
        "my_data=np.loadtxt('/content/train_vector_1.csv')\n",
        "print(my_data)"
      ],
      "execution_count": null,
      "outputs": [
        {
          "output_type": "stream",
          "text": [
            "[3.5 3.  3.2 3.1 3.6 3.9 3.4 3.4 2.9 3.1 3.7 3.4 3.  3.  4.  4.4 3.9 3.5\n",
            " 3.8 3.8 3.4 3.7 3.6 3.3 3.4 3.  3.4 3.5 3.4 3.2 3.1 3.4 4.1 4.2 3.1 3.2\n",
            " 3.5 3.6 3.  3.4 3.5 2.3 3.2 3.5 3.8 3.  3.8 3.2 3.7 3.3 3.2 3.2 3.1 2.3\n",
            " 2.8 2.8 3.3 2.4 2.9 2.7 2.  3.  2.2 2.9 2.9 3.1 3.  2.7 2.2 2.5 3.2 2.8\n",
            " 2.5 2.8 2.9 3.  2.8 3.  2.9 2.6 2.4 2.4 2.7 2.7 3.  3.4 3.1 2.3 3.  2.5\n",
            " 2.6 3.  2.6 2.3 2.7 3.  2.9 2.9 2.5 2.8 3.3 2.7 3.  2.9 3.  3.  2.5 2.9\n",
            " 2.5 3.6 3.2 2.7 3.  2.5 2.8 3.2 3.  3.8 2.6 2.2 3.2 2.8 2.8 2.7 3.3 3.2\n",
            " 2.8 3.  2.8 3.  2.8 3.8 2.8 2.8 2.6 3.  3.4 3.1 3.  3.1 3.1 3.1 2.7 3.2\n",
            " 3.3 3.  2.5 3.  3.4 3. ]\n"
          ],
          "name": "stdout"
        }
      ]
    },
    {
      "cell_type": "markdown",
      "metadata": {
        "id": "Sa06XNJq8SY4"
      },
      "source": [
        "### Задача 3\n",
        "\n",
        "Работайте с массивом, полученным в предыдущих задачах.\n",
        "\n",
        "* Напишите код, который считает среднее значение всех элементов массива (без использования встроенных функций np.mean(), np.sum() и т.д.). Для решения задачи воспользуйтесь циклом.\n",
        "С помощью команды %%timeit отобразите время выполнения написанного кода.\n",
        "\n",
        "\n",
        "* В новой ячейке посчитайте среднее значение всех элементов списка. В этот раз используйте функцию np.mean(). Командой %%timeit отобразите время выполнения и этой ячейки."
      ]
    },
    {
      "cell_type": "code",
      "metadata": {
        "id": "nDR0GnjtfGum",
        "colab": {
          "base_uri": "https://localhost:8080/",
          "height": 34
        },
        "outputId": "3fd96a55-ac39-4cc5-f8bd-51b95352826b"
      },
      "source": [
        "%%timeit \n",
        "sum=0\n",
        "for i in my_data:\n",
        "  sum=sum+i\n",
        "avarage=sum/my_data.size\n",
        "#print(avarage)"
      ],
      "execution_count": null,
      "outputs": [
        {
          "output_type": "stream",
          "text": [
            "10000 loops, best of 3: 31.8 µs per loop\n"
          ],
          "name": "stdout"
        }
      ]
    },
    {
      "cell_type": "code",
      "metadata": {
        "id": "oGIltTCrh_NN",
        "colab": {
          "base_uri": "https://localhost:8080/",
          "height": 71
        },
        "outputId": "df61c628-404b-4bb7-f8c2-f07e91d067f8"
      },
      "source": [
        "%%timeit\n",
        "my_data.mean()"
      ],
      "execution_count": null,
      "outputs": [
        {
          "output_type": "stream",
          "text": [
            "The slowest run took 75.60 times longer than the fastest. This could mean that an intermediate result is being cached.\n",
            "100000 loops, best of 3: 4.94 µs per loop\n"
          ],
          "name": "stdout"
        }
      ]
    },
    {
      "cell_type": "markdown",
      "metadata": {
        "id": "WGmpSq2ek1NH"
      },
      "source": [
        "### Задача 4\n",
        "\n",
        "1. Перейдите по ссылке на файл **iris.csv** (ссылка в getcourse)\n",
        "\n",
        "2. Сохраните файл на пк (в этой задаче пользоваться google drive не нужно)\n",
        "\n",
        "3. Загрузите файл в ноутбук с помощью **files.upload**\n",
        "\n",
        "4. Откройте файл **iris.csv** с помощью функции **np.loadtxt**, указав полный или относительный путь до файла"
      ]
    },
    {
      "cell_type": "code",
      "metadata": {
        "id": "VFLT4Bx8Az_A",
        "colab": {
          "resources": {
            "http://localhost:8080/nbextensions/google.colab/files.js": {
              "data": "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",
              "ok": true,
              "headers": [
                [
                  "content-type",
                  "application/javascript"
                ]
              ],
              "status": 200,
              "status_text": ""
            }
          },
          "base_uri": "https://localhost:8080/",
          "height": 109
        },
        "outputId": "52558090-b6aa-419f-806f-5b9ee032055a"
      },
      "source": [
        "from google.colab import files\n",
        "files.upload()"
      ],
      "execution_count": null,
      "outputs": [
        {
          "output_type": "display_data",
          "data": {
            "text/html": [
              "\n",
              "     <input type=\"file\" id=\"files-32220071-108b-494a-875b-192979294cf2\" name=\"files[]\" multiple disabled\n",
              "        style=\"border:none\" />\n",
              "     <output id=\"result-32220071-108b-494a-875b-192979294cf2\">\n",
              "      Upload widget is only available when the cell has been executed in the\n",
              "      current browser session. Please rerun this cell to enable.\n",
              "      </output>\n",
              "      <script src=\"/nbextensions/google.colab/files.js\"></script> "
            ],
            "text/plain": [
              "<IPython.core.display.HTML object>"
            ]
          },
          "metadata": {
            "tags": []
          }
        },
        {
          "output_type": "stream",
          "text": [
            "Saving iris.csv to iris.csv\n"
          ],
          "name": "stdout"
        },
        {
          "output_type": "execute_result",
          "data": {
            "text/plain": [
              "{'iris.csv': b',sepal.length,sepal.width,petal.length,petal.width\\n0,5.1,3.5,1.4,0.2\\n1,4.9,3.0,1.4,0.2\\n2,4.7,3.2,1.3,0.2\\n3,4.6,3.1,1.5,0.2\\n4,5.0,3.6,1.4,0.2\\n5,5.4,3.9,1.7,0.4\\n6,4.6,3.4,1.4,0.3\\n7,5.0,3.4,1.5,0.2\\n8,4.4,2.9,1.4,0.2\\n9,4.9,3.1,1.5,0.1\\n10,5.4,3.7,1.5,0.2\\n11,4.8,3.4,1.6,0.2\\n12,4.8,3.0,1.4,0.1\\n13,4.3,3.0,1.1,0.1\\n14,5.8,4.0,1.2,0.2\\n15,5.7,4.4,1.5,0.4\\n16,5.4,3.9,1.3,0.4\\n17,5.1,3.5,1.4,0.3\\n18,5.7,3.8,1.7,0.3\\n19,5.1,3.8,1.5,0.3\\n20,5.4,3.4,1.7,0.2\\n21,5.1,3.7,1.5,0.4\\n22,4.6,3.6,1.0,0.2\\n23,5.1,3.3,1.7,0.5\\n24,4.8,3.4,1.9,0.2\\n25,5.0,3.0,1.6,0.2\\n26,5.0,3.4,1.6,0.4\\n27,5.2,3.5,1.5,0.2\\n28,5.2,3.4,1.4,0.2\\n29,4.7,3.2,1.6,0.2\\n30,4.8,3.1,1.6,0.2\\n31,5.4,3.4,1.5,0.4\\n32,5.2,4.1,1.5,0.1\\n33,5.5,4.2,1.4,0.2\\n34,4.9,3.1,1.5,0.2\\n35,5.0,3.2,1.2,0.2\\n36,5.5,3.5,1.3,0.2\\n37,4.9,3.6,1.4,0.1\\n38,4.4,3.0,1.3,0.2\\n39,5.1,3.4,1.5,0.2\\n40,5.0,3.5,1.3,0.3\\n41,4.5,2.3,1.3,0.3\\n42,4.4,3.2,1.3,0.2\\n43,5.0,3.5,1.6,0.6\\n44,5.1,3.8,1.9,0.4\\n45,4.8,3.0,1.4,0.3\\n46,5.1,3.8,1.6,0.2\\n47,4.6,3.2,1.4,0.2\\n48,5.3,3.7,1.5,0.2\\n49,5.0,3.3,1.4,0.2\\n50,7.0,3.2,4.7,1.4\\n51,6.4,3.2,4.5,1.5\\n52,6.9,3.1,4.9,1.5\\n53,5.5,2.3,4.0,1.3\\n54,6.5,2.8,4.6,1.5\\n55,5.7,2.8,4.5,1.3\\n56,6.3,3.3,4.7,1.6\\n57,4.9,2.4,3.3,1.0\\n58,6.6,2.9,4.6,1.3\\n59,5.2,2.7,3.9,1.4\\n60,5.0,2.0,3.5,1.0\\n61,5.9,3.0,4.2,1.5\\n62,6.0,2.2,4.0,1.0\\n63,6.1,2.9,4.7,1.4\\n64,5.6,2.9,3.6,1.3\\n65,6.7,3.1,4.4,1.4\\n66,5.6,3.0,4.5,1.5\\n67,5.8,2.7,4.1,1.0\\n68,6.2,2.2,4.5,1.5\\n69,5.6,2.5,3.9,1.1\\n70,5.9,3.2,4.8,1.8\\n71,6.1,2.8,4.0,1.3\\n72,6.3,2.5,4.9,1.5\\n73,6.1,2.8,4.7,1.2\\n74,6.4,2.9,4.3,1.3\\n75,6.6,3.0,4.4,1.4\\n76,6.8,2.8,4.8,1.4\\n77,6.7,3.0,5.0,1.7\\n78,6.0,2.9,4.5,1.5\\n79,5.7,2.6,3.5,1.0\\n80,5.5,2.4,3.8,1.1\\n81,5.5,2.4,3.7,1.0\\n82,5.8,2.7,3.9,1.2\\n83,6.0,2.7,5.1,1.6\\n84,5.4,3.0,4.5,1.5\\n85,6.0,3.4,4.5,1.6\\n86,6.7,3.1,4.7,1.5\\n87,6.3,2.3,4.4,1.3\\n88,5.6,3.0,4.1,1.3\\n89,5.5,2.5,4.0,1.3\\n90,5.5,2.6,4.4,1.2\\n91,6.1,3.0,4.6,1.4\\n92,5.8,2.6,4.0,1.2\\n93,5.0,2.3,3.3,1.0\\n94,5.6,2.7,4.2,1.3\\n95,5.7,3.0,4.2,1.2\\n96,5.7,2.9,4.2,1.3\\n97,6.2,2.9,4.3,1.3\\n98,5.1,2.5,3.0,1.1\\n99,5.7,2.8,4.1,1.3\\n100,6.3,3.3,6.0,2.5\\n101,5.8,2.7,5.1,1.9\\n102,7.1,3.0,5.9,2.1\\n103,6.3,2.9,5.6,1.8\\n104,6.5,3.0,5.8,2.2\\n105,7.6,3.0,6.6,2.1\\n106,4.9,2.5,4.5,1.7\\n107,7.3,2.9,6.3,1.8\\n108,6.7,2.5,5.8,1.8\\n109,7.2,3.6,6.1,2.5\\n110,6.5,3.2,5.1,2.0\\n111,6.4,2.7,5.3,1.9\\n112,6.8,3.0,5.5,2.1\\n113,5.7,2.5,5.0,2.0\\n114,5.8,2.8,5.1,2.4\\n115,6.4,3.2,5.3,2.3\\n116,6.5,3.0,5.5,1.8\\n117,7.7,3.8,6.7,2.2\\n118,7.7,2.6,6.9,2.3\\n119,6.0,2.2,5.0,1.5\\n120,6.9,3.2,5.7,2.3\\n121,5.6,2.8,4.9,2.0\\n122,7.7,2.8,6.7,2.0\\n123,6.3,2.7,4.9,1.8\\n124,6.7,3.3,5.7,2.1\\n125,7.2,3.2,6.0,1.8\\n126,6.2,2.8,4.8,1.8\\n127,6.1,3.0,4.9,1.8\\n128,6.4,2.8,5.6,2.1\\n129,7.2,3.0,5.8,1.6\\n130,7.4,2.8,6.1,1.9\\n131,7.9,3.8,6.4,2.0\\n132,6.4,2.8,5.6,2.2\\n133,6.3,2.8,5.1,1.5\\n134,6.1,2.6,5.6,1.4\\n135,7.7,3.0,6.1,2.3\\n136,6.3,3.4,5.6,2.4\\n137,6.4,3.1,5.5,1.8\\n138,6.0,3.0,4.8,1.8\\n139,6.9,3.1,5.4,2.1\\n140,6.7,3.1,5.6,2.4\\n141,6.9,3.1,5.1,2.3\\n142,5.8,2.7,5.1,1.9\\n143,6.8,3.2,5.9,2.3\\n144,6.7,3.3,5.7,2.5\\n145,6.7,3.0,5.2,2.3\\n146,6.3,2.5,5.0,1.9\\n147,6.5,3.0,5.2,2.0\\n148,6.2,3.4,5.4,2.3\\n149,5.9,3.0,5.1,1.8\\n'}"
            ]
          },
          "metadata": {
            "tags": []
          },
          "execution_count": 9
        }
      ]
    },
    {
      "cell_type": "code",
      "metadata": {
        "id": "Wlr7WndjBOUm",
        "colab": {
          "base_uri": "https://localhost:8080/",
          "height": 1000
        },
        "outputId": "4fdcaa80-64af-4966-973e-9b7ccd329c15"
      },
      "source": [
        "np.loadtxt('/content/iris.csv', delimiter=',',skiprows=1)"
      ],
      "execution_count": null,
      "outputs": [
        {
          "output_type": "execute_result",
          "data": {
            "text/plain": [
              "array([[0.00e+00, 5.10e+00, 3.50e+00, 1.40e+00, 2.00e-01],\n",
              "       [1.00e+00, 4.90e+00, 3.00e+00, 1.40e+00, 2.00e-01],\n",
              "       [2.00e+00, 4.70e+00, 3.20e+00, 1.30e+00, 2.00e-01],\n",
              "       [3.00e+00, 4.60e+00, 3.10e+00, 1.50e+00, 2.00e-01],\n",
              "       [4.00e+00, 5.00e+00, 3.60e+00, 1.40e+00, 2.00e-01],\n",
              "       [5.00e+00, 5.40e+00, 3.90e+00, 1.70e+00, 4.00e-01],\n",
              "       [6.00e+00, 4.60e+00, 3.40e+00, 1.40e+00, 3.00e-01],\n",
              "       [7.00e+00, 5.00e+00, 3.40e+00, 1.50e+00, 2.00e-01],\n",
              "       [8.00e+00, 4.40e+00, 2.90e+00, 1.40e+00, 2.00e-01],\n",
              "       [9.00e+00, 4.90e+00, 3.10e+00, 1.50e+00, 1.00e-01],\n",
              "       [1.00e+01, 5.40e+00, 3.70e+00, 1.50e+00, 2.00e-01],\n",
              "       [1.10e+01, 4.80e+00, 3.40e+00, 1.60e+00, 2.00e-01],\n",
              "       [1.20e+01, 4.80e+00, 3.00e+00, 1.40e+00, 1.00e-01],\n",
              "       [1.30e+01, 4.30e+00, 3.00e+00, 1.10e+00, 1.00e-01],\n",
              "       [1.40e+01, 5.80e+00, 4.00e+00, 1.20e+00, 2.00e-01],\n",
              "       [1.50e+01, 5.70e+00, 4.40e+00, 1.50e+00, 4.00e-01],\n",
              "       [1.60e+01, 5.40e+00, 3.90e+00, 1.30e+00, 4.00e-01],\n",
              "       [1.70e+01, 5.10e+00, 3.50e+00, 1.40e+00, 3.00e-01],\n",
              "       [1.80e+01, 5.70e+00, 3.80e+00, 1.70e+00, 3.00e-01],\n",
              "       [1.90e+01, 5.10e+00, 3.80e+00, 1.50e+00, 3.00e-01],\n",
              "       [2.00e+01, 5.40e+00, 3.40e+00, 1.70e+00, 2.00e-01],\n",
              "       [2.10e+01, 5.10e+00, 3.70e+00, 1.50e+00, 4.00e-01],\n",
              "       [2.20e+01, 4.60e+00, 3.60e+00, 1.00e+00, 2.00e-01],\n",
              "       [2.30e+01, 5.10e+00, 3.30e+00, 1.70e+00, 5.00e-01],\n",
              "       [2.40e+01, 4.80e+00, 3.40e+00, 1.90e+00, 2.00e-01],\n",
              "       [2.50e+01, 5.00e+00, 3.00e+00, 1.60e+00, 2.00e-01],\n",
              "       [2.60e+01, 5.00e+00, 3.40e+00, 1.60e+00, 4.00e-01],\n",
              "       [2.70e+01, 5.20e+00, 3.50e+00, 1.50e+00, 2.00e-01],\n",
              "       [2.80e+01, 5.20e+00, 3.40e+00, 1.40e+00, 2.00e-01],\n",
              "       [2.90e+01, 4.70e+00, 3.20e+00, 1.60e+00, 2.00e-01],\n",
              "       [3.00e+01, 4.80e+00, 3.10e+00, 1.60e+00, 2.00e-01],\n",
              "       [3.10e+01, 5.40e+00, 3.40e+00, 1.50e+00, 4.00e-01],\n",
              "       [3.20e+01, 5.20e+00, 4.10e+00, 1.50e+00, 1.00e-01],\n",
              "       [3.30e+01, 5.50e+00, 4.20e+00, 1.40e+00, 2.00e-01],\n",
              "       [3.40e+01, 4.90e+00, 3.10e+00, 1.50e+00, 2.00e-01],\n",
              "       [3.50e+01, 5.00e+00, 3.20e+00, 1.20e+00, 2.00e-01],\n",
              "       [3.60e+01, 5.50e+00, 3.50e+00, 1.30e+00, 2.00e-01],\n",
              "       [3.70e+01, 4.90e+00, 3.60e+00, 1.40e+00, 1.00e-01],\n",
              "       [3.80e+01, 4.40e+00, 3.00e+00, 1.30e+00, 2.00e-01],\n",
              "       [3.90e+01, 5.10e+00, 3.40e+00, 1.50e+00, 2.00e-01],\n",
              "       [4.00e+01, 5.00e+00, 3.50e+00, 1.30e+00, 3.00e-01],\n",
              "       [4.10e+01, 4.50e+00, 2.30e+00, 1.30e+00, 3.00e-01],\n",
              "       [4.20e+01, 4.40e+00, 3.20e+00, 1.30e+00, 2.00e-01],\n",
              "       [4.30e+01, 5.00e+00, 3.50e+00, 1.60e+00, 6.00e-01],\n",
              "       [4.40e+01, 5.10e+00, 3.80e+00, 1.90e+00, 4.00e-01],\n",
              "       [4.50e+01, 4.80e+00, 3.00e+00, 1.40e+00, 3.00e-01],\n",
              "       [4.60e+01, 5.10e+00, 3.80e+00, 1.60e+00, 2.00e-01],\n",
              "       [4.70e+01, 4.60e+00, 3.20e+00, 1.40e+00, 2.00e-01],\n",
              "       [4.80e+01, 5.30e+00, 3.70e+00, 1.50e+00, 2.00e-01],\n",
              "       [4.90e+01, 5.00e+00, 3.30e+00, 1.40e+00, 2.00e-01],\n",
              "       [5.00e+01, 7.00e+00, 3.20e+00, 4.70e+00, 1.40e+00],\n",
              "       [5.10e+01, 6.40e+00, 3.20e+00, 4.50e+00, 1.50e+00],\n",
              "       [5.20e+01, 6.90e+00, 3.10e+00, 4.90e+00, 1.50e+00],\n",
              "       [5.30e+01, 5.50e+00, 2.30e+00, 4.00e+00, 1.30e+00],\n",
              "       [5.40e+01, 6.50e+00, 2.80e+00, 4.60e+00, 1.50e+00],\n",
              "       [5.50e+01, 5.70e+00, 2.80e+00, 4.50e+00, 1.30e+00],\n",
              "       [5.60e+01, 6.30e+00, 3.30e+00, 4.70e+00, 1.60e+00],\n",
              "       [5.70e+01, 4.90e+00, 2.40e+00, 3.30e+00, 1.00e+00],\n",
              "       [5.80e+01, 6.60e+00, 2.90e+00, 4.60e+00, 1.30e+00],\n",
              "       [5.90e+01, 5.20e+00, 2.70e+00, 3.90e+00, 1.40e+00],\n",
              "       [6.00e+01, 5.00e+00, 2.00e+00, 3.50e+00, 1.00e+00],\n",
              "       [6.10e+01, 5.90e+00, 3.00e+00, 4.20e+00, 1.50e+00],\n",
              "       [6.20e+01, 6.00e+00, 2.20e+00, 4.00e+00, 1.00e+00],\n",
              "       [6.30e+01, 6.10e+00, 2.90e+00, 4.70e+00, 1.40e+00],\n",
              "       [6.40e+01, 5.60e+00, 2.90e+00, 3.60e+00, 1.30e+00],\n",
              "       [6.50e+01, 6.70e+00, 3.10e+00, 4.40e+00, 1.40e+00],\n",
              "       [6.60e+01, 5.60e+00, 3.00e+00, 4.50e+00, 1.50e+00],\n",
              "       [6.70e+01, 5.80e+00, 2.70e+00, 4.10e+00, 1.00e+00],\n",
              "       [6.80e+01, 6.20e+00, 2.20e+00, 4.50e+00, 1.50e+00],\n",
              "       [6.90e+01, 5.60e+00, 2.50e+00, 3.90e+00, 1.10e+00],\n",
              "       [7.00e+01, 5.90e+00, 3.20e+00, 4.80e+00, 1.80e+00],\n",
              "       [7.10e+01, 6.10e+00, 2.80e+00, 4.00e+00, 1.30e+00],\n",
              "       [7.20e+01, 6.30e+00, 2.50e+00, 4.90e+00, 1.50e+00],\n",
              "       [7.30e+01, 6.10e+00, 2.80e+00, 4.70e+00, 1.20e+00],\n",
              "       [7.40e+01, 6.40e+00, 2.90e+00, 4.30e+00, 1.30e+00],\n",
              "       [7.50e+01, 6.60e+00, 3.00e+00, 4.40e+00, 1.40e+00],\n",
              "       [7.60e+01, 6.80e+00, 2.80e+00, 4.80e+00, 1.40e+00],\n",
              "       [7.70e+01, 6.70e+00, 3.00e+00, 5.00e+00, 1.70e+00],\n",
              "       [7.80e+01, 6.00e+00, 2.90e+00, 4.50e+00, 1.50e+00],\n",
              "       [7.90e+01, 5.70e+00, 2.60e+00, 3.50e+00, 1.00e+00],\n",
              "       [8.00e+01, 5.50e+00, 2.40e+00, 3.80e+00, 1.10e+00],\n",
              "       [8.10e+01, 5.50e+00, 2.40e+00, 3.70e+00, 1.00e+00],\n",
              "       [8.20e+01, 5.80e+00, 2.70e+00, 3.90e+00, 1.20e+00],\n",
              "       [8.30e+01, 6.00e+00, 2.70e+00, 5.10e+00, 1.60e+00],\n",
              "       [8.40e+01, 5.40e+00, 3.00e+00, 4.50e+00, 1.50e+00],\n",
              "       [8.50e+01, 6.00e+00, 3.40e+00, 4.50e+00, 1.60e+00],\n",
              "       [8.60e+01, 6.70e+00, 3.10e+00, 4.70e+00, 1.50e+00],\n",
              "       [8.70e+01, 6.30e+00, 2.30e+00, 4.40e+00, 1.30e+00],\n",
              "       [8.80e+01, 5.60e+00, 3.00e+00, 4.10e+00, 1.30e+00],\n",
              "       [8.90e+01, 5.50e+00, 2.50e+00, 4.00e+00, 1.30e+00],\n",
              "       [9.00e+01, 5.50e+00, 2.60e+00, 4.40e+00, 1.20e+00],\n",
              "       [9.10e+01, 6.10e+00, 3.00e+00, 4.60e+00, 1.40e+00],\n",
              "       [9.20e+01, 5.80e+00, 2.60e+00, 4.00e+00, 1.20e+00],\n",
              "       [9.30e+01, 5.00e+00, 2.30e+00, 3.30e+00, 1.00e+00],\n",
              "       [9.40e+01, 5.60e+00, 2.70e+00, 4.20e+00, 1.30e+00],\n",
              "       [9.50e+01, 5.70e+00, 3.00e+00, 4.20e+00, 1.20e+00],\n",
              "       [9.60e+01, 5.70e+00, 2.90e+00, 4.20e+00, 1.30e+00],\n",
              "       [9.70e+01, 6.20e+00, 2.90e+00, 4.30e+00, 1.30e+00],\n",
              "       [9.80e+01, 5.10e+00, 2.50e+00, 3.00e+00, 1.10e+00],\n",
              "       [9.90e+01, 5.70e+00, 2.80e+00, 4.10e+00, 1.30e+00],\n",
              "       [1.00e+02, 6.30e+00, 3.30e+00, 6.00e+00, 2.50e+00],\n",
              "       [1.01e+02, 5.80e+00, 2.70e+00, 5.10e+00, 1.90e+00],\n",
              "       [1.02e+02, 7.10e+00, 3.00e+00, 5.90e+00, 2.10e+00],\n",
              "       [1.03e+02, 6.30e+00, 2.90e+00, 5.60e+00, 1.80e+00],\n",
              "       [1.04e+02, 6.50e+00, 3.00e+00, 5.80e+00, 2.20e+00],\n",
              "       [1.05e+02, 7.60e+00, 3.00e+00, 6.60e+00, 2.10e+00],\n",
              "       [1.06e+02, 4.90e+00, 2.50e+00, 4.50e+00, 1.70e+00],\n",
              "       [1.07e+02, 7.30e+00, 2.90e+00, 6.30e+00, 1.80e+00],\n",
              "       [1.08e+02, 6.70e+00, 2.50e+00, 5.80e+00, 1.80e+00],\n",
              "       [1.09e+02, 7.20e+00, 3.60e+00, 6.10e+00, 2.50e+00],\n",
              "       [1.10e+02, 6.50e+00, 3.20e+00, 5.10e+00, 2.00e+00],\n",
              "       [1.11e+02, 6.40e+00, 2.70e+00, 5.30e+00, 1.90e+00],\n",
              "       [1.12e+02, 6.80e+00, 3.00e+00, 5.50e+00, 2.10e+00],\n",
              "       [1.13e+02, 5.70e+00, 2.50e+00, 5.00e+00, 2.00e+00],\n",
              "       [1.14e+02, 5.80e+00, 2.80e+00, 5.10e+00, 2.40e+00],\n",
              "       [1.15e+02, 6.40e+00, 3.20e+00, 5.30e+00, 2.30e+00],\n",
              "       [1.16e+02, 6.50e+00, 3.00e+00, 5.50e+00, 1.80e+00],\n",
              "       [1.17e+02, 7.70e+00, 3.80e+00, 6.70e+00, 2.20e+00],\n",
              "       [1.18e+02, 7.70e+00, 2.60e+00, 6.90e+00, 2.30e+00],\n",
              "       [1.19e+02, 6.00e+00, 2.20e+00, 5.00e+00, 1.50e+00],\n",
              "       [1.20e+02, 6.90e+00, 3.20e+00, 5.70e+00, 2.30e+00],\n",
              "       [1.21e+02, 5.60e+00, 2.80e+00, 4.90e+00, 2.00e+00],\n",
              "       [1.22e+02, 7.70e+00, 2.80e+00, 6.70e+00, 2.00e+00],\n",
              "       [1.23e+02, 6.30e+00, 2.70e+00, 4.90e+00, 1.80e+00],\n",
              "       [1.24e+02, 6.70e+00, 3.30e+00, 5.70e+00, 2.10e+00],\n",
              "       [1.25e+02, 7.20e+00, 3.20e+00, 6.00e+00, 1.80e+00],\n",
              "       [1.26e+02, 6.20e+00, 2.80e+00, 4.80e+00, 1.80e+00],\n",
              "       [1.27e+02, 6.10e+00, 3.00e+00, 4.90e+00, 1.80e+00],\n",
              "       [1.28e+02, 6.40e+00, 2.80e+00, 5.60e+00, 2.10e+00],\n",
              "       [1.29e+02, 7.20e+00, 3.00e+00, 5.80e+00, 1.60e+00],\n",
              "       [1.30e+02, 7.40e+00, 2.80e+00, 6.10e+00, 1.90e+00],\n",
              "       [1.31e+02, 7.90e+00, 3.80e+00, 6.40e+00, 2.00e+00],\n",
              "       [1.32e+02, 6.40e+00, 2.80e+00, 5.60e+00, 2.20e+00],\n",
              "       [1.33e+02, 6.30e+00, 2.80e+00, 5.10e+00, 1.50e+00],\n",
              "       [1.34e+02, 6.10e+00, 2.60e+00, 5.60e+00, 1.40e+00],\n",
              "       [1.35e+02, 7.70e+00, 3.00e+00, 6.10e+00, 2.30e+00],\n",
              "       [1.36e+02, 6.30e+00, 3.40e+00, 5.60e+00, 2.40e+00],\n",
              "       [1.37e+02, 6.40e+00, 3.10e+00, 5.50e+00, 1.80e+00],\n",
              "       [1.38e+02, 6.00e+00, 3.00e+00, 4.80e+00, 1.80e+00],\n",
              "       [1.39e+02, 6.90e+00, 3.10e+00, 5.40e+00, 2.10e+00],\n",
              "       [1.40e+02, 6.70e+00, 3.10e+00, 5.60e+00, 2.40e+00],\n",
              "       [1.41e+02, 6.90e+00, 3.10e+00, 5.10e+00, 2.30e+00],\n",
              "       [1.42e+02, 5.80e+00, 2.70e+00, 5.10e+00, 1.90e+00],\n",
              "       [1.43e+02, 6.80e+00, 3.20e+00, 5.90e+00, 2.30e+00],\n",
              "       [1.44e+02, 6.70e+00, 3.30e+00, 5.70e+00, 2.50e+00],\n",
              "       [1.45e+02, 6.70e+00, 3.00e+00, 5.20e+00, 2.30e+00],\n",
              "       [1.46e+02, 6.30e+00, 2.50e+00, 5.00e+00, 1.90e+00],\n",
              "       [1.47e+02, 6.50e+00, 3.00e+00, 5.20e+00, 2.00e+00],\n",
              "       [1.48e+02, 6.20e+00, 3.40e+00, 5.40e+00, 2.30e+00],\n",
              "       [1.49e+02, 5.90e+00, 3.00e+00, 5.10e+00, 1.80e+00]])"
            ]
          },
          "metadata": {
            "tags": []
          },
          "execution_count": 14
        }
      ]
    },
    {
      "cell_type": "markdown",
      "metadata": {
        "id": "Z7JZ-m918SZA"
      },
      "source": [
        "### Задача 5\n",
        "\n",
        "Работайте с массивом, полученным при открытии **iris.csv**. Назовите его my_2d_array. Напиишите код, который считает сумму элементов массива по столбцам (для решения данной задачи воспользуйтесь разделом ноутбука \"Операции с двумерными массивами и встроенные методы\")."
      ]
    },
    {
      "cell_type": "code",
      "metadata": {
        "id": "ucgenWAyChnf",
        "colab": {
          "base_uri": "https://localhost:8080/",
          "height": 34
        },
        "outputId": "9c2db92a-0d14-4fd9-8860-cba52fd28232"
      },
      "source": [
        "my_2d_array=np.loadtxt('/content/iris.csv', delimiter=',', skiprows=1)\n",
        "my_2d_array.sum(axis=0)\n"
      ],
      "execution_count": null,
      "outputs": [
        {
          "output_type": "execute_result",
          "data": {
            "text/plain": [
              "array([11175. ,   876.5,   458.6,   563.7,   179.9])"
            ]
          },
          "metadata": {
            "tags": []
          },
          "execution_count": 17
        }
      ]
    },
    {
      "cell_type": "markdown",
      "metadata": {
        "id": "5lm0wgbRzVSA"
      },
      "source": [
        "### Задача 6 \n",
        "\n",
        "Используя библиотеку numpy, создайте массив формой 3x3 из случайных чисел от 11 до 41 не включительно (раздел \"Семплирование из распределений\"). \n",
        "* Выведите форму массива, убедитесь, что она совпадает с той, что вы задали.\n",
        "\n",
        "\n",
        "В новой ячейке\n",
        "\n",
        "* Не используя цикл for,  выведите на экран список элементов, которые строго меньше 20 (раздел \"Индексация\").\n",
        "\n",
        "* Просуммируйте все элементы, не используя цикл (раздел \"Встроенные методы\").\n"
      ]
    },
    {
      "cell_type": "code",
      "metadata": {
        "id": "_VvhHTz0Eu_b",
        "colab": {
          "base_uri": "https://localhost:8080/",
          "height": 85
        },
        "outputId": "da1d6446-b504-490a-a012-06c6f3d5096f"
      },
      "source": [
        "my_array=np.random.randint(11,41,(3,3))\n",
        "print(my_array)\n",
        "print(my_array.shape)"
      ],
      "execution_count": null,
      "outputs": [
        {
          "output_type": "stream",
          "text": [
            "[[35 26 33]\n",
            " [13 18 36]\n",
            " [16 30 37]]\n",
            "(3, 3)\n"
          ],
          "name": "stdout"
        }
      ]
    },
    {
      "cell_type": "code",
      "metadata": {
        "id": "c1dQvd3LJvkL",
        "colab": {
          "base_uri": "https://localhost:8080/",
          "height": 51
        },
        "outputId": "19087606-75ad-4598-ae15-4c81529a2a79"
      },
      "source": [
        "print(my_array[my_array<20])\n",
        "my_array.sum()"
      ],
      "execution_count": null,
      "outputs": [
        {
          "output_type": "stream",
          "text": [
            "[13 18 16]\n"
          ],
          "name": "stdout"
        },
        {
          "output_type": "execute_result",
          "data": {
            "text/plain": [
              "244"
            ]
          },
          "metadata": {
            "tags": []
          },
          "execution_count": 29
        }
      ]
    },
    {
      "cell_type": "markdown",
      "metadata": {
        "id": "nj2XeO8wmvVG"
      },
      "source": [
        "### Задача 7\n",
        "\n",
        "Создайте массив формой 5x5 из случайных целых от 1 до 11 не включительно.\n",
        "\n",
        "* Выведите на экран элемент, находящийся в нулевой строке и нулевом столбце.\n",
        "\n",
        "* Выведите на экран элемент, находящийся в первой строке и втором столбце.\n",
        "\n",
        "* Выведите элементы третьей строки.\n",
        "\n",
        "* Выведите элементы четвертого столбца.\n",
        "\n",
        "В новой ячейке\n",
        "\n",
        "* Выведите на экран элемент, который находится в четвертой строке и пятом столбце, посмотрите на информацию об ошибке (самая информативная строчка находится в самом конце **перед кнопкой search stack overflow**), переведите эту последнюю строчку на русский язык, постарайтесь запомнить ошибку и то, что ее вызвало\n"
      ]
    },
    {
      "cell_type": "code",
      "metadata": {
        "id": "e6eUUCXTMByl",
        "colab": {
          "base_uri": "https://localhost:8080/",
          "height": 170
        },
        "outputId": "9184285d-1c81-437e-e0ec-b06e2c8e3dd1"
      },
      "source": [
        "my_array2=np.random.randint(1,11,(5,5))\n",
        "print(my_array2)\n",
        "print(my_array2[0,0])\n",
        "print(my_array2[1,2])\n",
        "print(my_array2[3,:])\n",
        "print(my_array2[:,4])"
      ],
      "execution_count": null,
      "outputs": [
        {
          "output_type": "stream",
          "text": [
            "[[6 6 9 1 6]\n",
            " [9 7 4 5 3]\n",
            " [2 8 1 8 4]\n",
            " [8 3 9 1 8]\n",
            " [9 2 2 4 3]]\n",
            "6\n",
            "4\n",
            "[8 3 9 1 8]\n",
            "[6 3 4 8 3]\n"
          ],
          "name": "stdout"
        }
      ]
    },
    {
      "cell_type": "code",
      "metadata": {
        "id": "4WpkvJVJNBiD",
        "colab": {
          "base_uri": "https://localhost:8080/",
          "height": 163
        },
        "outputId": "a053b68d-498d-479f-e0ca-02acd646c918"
      },
      "source": [
        "print(my_array2[4,5])"
      ],
      "execution_count": null,
      "outputs": [
        {
          "output_type": "error",
          "ename": "IndexError",
          "evalue": "ignored",
          "traceback": [
            "\u001b[0;31m---------------------------------------------------------------------------\u001b[0m",
            "\u001b[0;31mIndexError\u001b[0m                                Traceback (most recent call last)",
            "\u001b[0;32m<ipython-input-32-6444e17eb00e>\u001b[0m in \u001b[0;36m<module>\u001b[0;34m()\u001b[0m\n\u001b[0;32m----> 1\u001b[0;31m \u001b[0mprint\u001b[0m\u001b[0;34m(\u001b[0m\u001b[0mmy_array2\u001b[0m\u001b[0;34m[\u001b[0m\u001b[0;36m4\u001b[0m\u001b[0;34m,\u001b[0m\u001b[0;36m5\u001b[0m\u001b[0;34m]\u001b[0m\u001b[0;34m)\u001b[0m\u001b[0;34m\u001b[0m\u001b[0;34m\u001b[0m\u001b[0m\n\u001b[0m",
            "\u001b[0;31mIndexError\u001b[0m: index 5 is out of bounds for axis 1 with size 5"
          ]
        }
      ]
    },
    {
      "cell_type": "markdown",
      "metadata": {
        "id": "vl0mM1mc8SZc"
      },
      "source": [
        "## Pro версия"
      ]
    },
    {
      "cell_type": "markdown",
      "metadata": {
        "id": "iQhtbx8Z8SZj"
      },
      "source": [
        "### Задача 1\n",
        "\n",
        "* Подгрузите массив **iris.csv** и назовите его my_array. \n",
        "\n",
        "* Создайте двумерный массив из случайных чисел той же формы, что и my_array, не указывая его в ручную.(раздел \"Семплирование из распределений\", потребуется использовать размерность массива my_array).\n",
        "\n",
        "* Назовите его my_generated_array."
      ]
    },
    {
      "cell_type": "code",
      "metadata": {
        "id": "_nJGUl4ePUuL",
        "colab": {
          "base_uri": "https://localhost:8080/",
          "height": 1000
        },
        "outputId": "f406464f-5b7d-4ac5-b05d-f303bc4a9893"
      },
      "source": [
        "my_array=np.loadtxt('/content/iris.csv', delimiter=',',skiprows=1)\n",
        "my_generated_array=np.random.random((my_array.shape))\n",
        "print(my_generated_array)\n",
        "print(my_array.shape)\n",
        "print(my_generated_array.shape)\n"
      ],
      "execution_count": null,
      "outputs": [
        {
          "output_type": "stream",
          "text": [
            "[[2.73477690e-01 4.17527279e-01 4.32947237e-01 5.42059563e-01\n",
            "  1.03417193e-01]\n",
            " [5.98311179e-01 7.69799551e-01 5.20582658e-02 3.14424510e-01\n",
            "  4.20653992e-01]\n",
            " [7.50540958e-01 5.45481090e-01 6.51730602e-01 5.59702478e-01\n",
            "  3.56733001e-01]\n",
            " [3.46243777e-01 4.93792574e-02 5.25020039e-01 8.54858154e-01\n",
            "  9.76975315e-02]\n",
            " [4.42068272e-01 3.50026208e-02 2.53904472e-01 2.74742490e-01\n",
            "  1.81733179e-01]\n",
            " [4.00043615e-01 1.64416369e-01 7.44753479e-01 3.09835937e-01\n",
            "  3.41924093e-02]\n",
            " [6.12528609e-01 1.54808657e-01 6.51781258e-02 9.69022373e-01\n",
            "  5.11095641e-01]\n",
            " [8.33261287e-01 6.88616477e-01 1.22110224e-01 2.51280263e-01\n",
            "  3.58134279e-01]\n",
            " [1.74864525e-01 4.92021868e-01 8.32852688e-01 5.69819469e-01\n",
            "  9.43037993e-01]\n",
            " [2.72845734e-01 4.54608384e-01 6.94089639e-01 1.56610474e-01\n",
            "  7.75576290e-01]\n",
            " [5.95772814e-01 3.32170678e-01 7.86567554e-01 3.51489838e-02\n",
            "  3.47286895e-02]\n",
            " [9.28647961e-01 3.14915049e-01 5.48520389e-01 3.09793806e-01\n",
            "  4.65793836e-01]\n",
            " [9.83644210e-02 7.48064614e-01 8.10352163e-01 5.23452422e-01\n",
            "  7.61006120e-02]\n",
            " [8.39889166e-01 5.86150017e-01 9.97196215e-01 6.33420831e-01\n",
            "  7.94979203e-01]\n",
            " [1.96844797e-02 1.05045299e-01 8.85744250e-01 4.92401481e-02\n",
            "  3.38017506e-01]\n",
            " [5.28476523e-01 4.36690881e-01 8.06397725e-01 7.97630214e-01\n",
            "  3.07053892e-01]\n",
            " [3.54573597e-01 7.17423915e-01 8.87074784e-01 4.73552053e-01\n",
            "  6.52530548e-01]\n",
            " [8.42573832e-01 2.77151073e-01 7.06365813e-01 7.72383802e-01\n",
            "  2.60927663e-01]\n",
            " [6.12869658e-02 1.68614628e-01 8.44648988e-01 2.16868249e-01\n",
            "  3.33820924e-01]\n",
            " [6.76168239e-01 8.60978157e-01 2.17542392e-01 6.00221134e-02\n",
            "  7.94265570e-01]\n",
            " [6.08565079e-01 9.82242435e-01 7.28837632e-01 4.49107815e-01\n",
            "  9.25775150e-01]\n",
            " [9.68066490e-01 8.98589342e-02 2.74143323e-02 2.77509503e-01\n",
            "  1.71986231e-01]\n",
            " [1.13468201e-02 4.61550693e-01 2.26242289e-01 5.49088373e-01\n",
            "  4.69270432e-01]\n",
            " [8.20016993e-01 7.94228752e-01 5.85297894e-01 8.48310223e-01\n",
            "  7.10552954e-01]\n",
            " [6.37333650e-01 9.39277473e-01 9.28466849e-01 7.91224420e-01\n",
            "  3.21685421e-01]\n",
            " [6.34556048e-02 9.45485153e-02 3.02751279e-02 3.66402239e-01\n",
            "  8.53954873e-01]\n",
            " [5.25562766e-01 4.62280380e-02 6.06200735e-01 2.41264551e-01\n",
            "  5.21782915e-01]\n",
            " [4.13944373e-01 3.43239490e-01 2.18934749e-01 6.37796412e-01\n",
            "  5.07571855e-02]\n",
            " [1.52391265e-01 1.45643874e-01 4.76886043e-01 2.91749776e-01\n",
            "  7.27491835e-01]\n",
            " [5.21850282e-01 7.94618808e-01 2.26819598e-01 6.28878668e-01\n",
            "  7.20931932e-01]\n",
            " [9.11849548e-01 3.61830326e-01 2.99642610e-01 3.49618501e-01\n",
            "  1.03657103e-01]\n",
            " [8.89345489e-02 8.32956668e-01 4.39055923e-01 3.01283014e-01\n",
            "  7.25912158e-01]\n",
            " [9.91114161e-01 4.34732096e-01 2.10646716e-01 8.49399128e-01\n",
            "  5.49337822e-01]\n",
            " [3.52210307e-01 3.30021080e-01 9.79582906e-01 6.96830838e-01\n",
            "  5.66812170e-01]\n",
            " [4.07560099e-01 1.26830109e-01 5.06467879e-01 1.84205970e-01\n",
            "  3.68217158e-01]\n",
            " [9.27259686e-01 8.45411948e-01 1.70695419e-01 9.83773767e-02\n",
            "  9.78190636e-01]\n",
            " [2.53474926e-01 5.97274661e-01 5.71927310e-01 4.57416216e-01\n",
            "  4.16937578e-01]\n",
            " [2.15259404e-01 2.68447839e-01 3.87825820e-01 6.41119314e-02\n",
            "  7.90229042e-01]\n",
            " [6.97858895e-01 7.21114866e-01 6.04919441e-01 6.53506740e-02\n",
            "  6.26719327e-01]\n",
            " [7.53427359e-01 7.94578259e-01 5.15693203e-01 4.31446770e-01\n",
            "  2.85184828e-02]\n",
            " [6.29470190e-01 5.00745872e-01 6.03887359e-01 3.68186779e-01\n",
            "  5.47294902e-02]\n",
            " [7.69556711e-01 7.82987674e-01 8.74536795e-01 4.49481949e-01\n",
            "  3.28449885e-02]\n",
            " [8.23884520e-01 3.91548651e-01 9.00688594e-01 3.49006437e-01\n",
            "  3.96558178e-01]\n",
            " [3.65037622e-01 4.27579907e-01 9.76446563e-01 2.47296773e-01\n",
            "  2.51357779e-01]\n",
            " [5.77310255e-01 4.98561208e-01 6.93242936e-01 5.85252649e-01\n",
            "  1.84829720e-01]\n",
            " [2.41476957e-02 2.77414730e-01 5.89245863e-02 2.94057213e-01\n",
            "  5.28259294e-01]\n",
            " [1.50675304e-01 4.52723968e-01 1.97419183e-02 1.39667633e-01\n",
            "  5.73834321e-02]\n",
            " [1.65472445e-02 4.86994630e-01 1.47187165e-01 8.53893785e-01\n",
            "  9.76553970e-02]\n",
            " [5.47895567e-01 1.40793135e-01 6.08527000e-01 2.49224475e-01\n",
            "  9.92087492e-01]\n",
            " [2.55714437e-01 5.37258526e-01 7.70178922e-01 6.90379516e-01\n",
            "  2.21781801e-01]\n",
            " [7.08919048e-01 9.91025952e-01 1.36614394e-01 9.43064293e-01\n",
            "  2.89868992e-01]\n",
            " [6.76231018e-01 2.40326490e-01 3.45749386e-01 9.77718989e-01\n",
            "  8.43294450e-01]\n",
            " [3.44402280e-01 7.30476127e-01 9.17173413e-01 1.16654532e-01\n",
            "  7.20184267e-01]\n",
            " [3.84040386e-01 4.23046171e-01 9.28187281e-01 3.96688020e-01\n",
            "  8.31070128e-01]\n",
            " [7.15031642e-01 3.37591634e-01 5.41370784e-01 8.51829710e-01\n",
            "  7.71649751e-01]\n",
            " [2.35405726e-01 1.96553836e-01 8.03879460e-01 8.90505918e-01\n",
            "  3.33322923e-01]\n",
            " [9.91372802e-01 8.31426108e-01 1.40442190e-01 5.63287657e-01\n",
            "  4.50763679e-02]\n",
            " [8.32310645e-02 6.91894830e-01 1.29285973e-01 1.63604720e-02\n",
            "  6.66320344e-01]\n",
            " [8.08247530e-01 7.74256066e-01 9.07829720e-01 8.34636860e-01\n",
            "  5.98051137e-01]\n",
            " [3.70548390e-01 4.86909903e-01 3.90322328e-01 7.75342780e-01\n",
            "  5.70864270e-01]\n",
            " [9.97041569e-02 5.86785543e-01 1.30952749e-02 2.53744969e-01\n",
            "  7.11511225e-02]\n",
            " [9.16551171e-01 4.90783063e-01 7.34980167e-01 4.61669245e-01\n",
            "  3.21795806e-01]\n",
            " [9.72830901e-01 8.09290819e-03 8.48119051e-01 2.26995590e-01\n",
            "  6.99477992e-01]\n",
            " [8.30109002e-01 5.48545267e-01 1.10593858e-01 3.68969760e-01\n",
            "  9.72889301e-01]\n",
            " [7.68374141e-01 5.30404516e-01 1.68527543e-01 3.18010016e-01\n",
            "  1.30386592e-01]\n",
            " [8.85115583e-01 6.26944179e-01 4.80243914e-01 9.40131857e-01\n",
            "  5.94949565e-01]\n",
            " [9.09404661e-01 1.33642316e-01 1.73279041e-01 8.49216876e-01\n",
            "  8.55913386e-02]\n",
            " [4.73241998e-01 8.96135142e-01 2.95546718e-01 6.56212850e-01\n",
            "  7.07523639e-01]\n",
            " [6.50849397e-01 1.08922134e-01 3.08511826e-01 8.45988486e-01\n",
            "  8.39791809e-01]\n",
            " [3.25985892e-01 9.56526375e-02 6.63622757e-01 6.33659260e-01\n",
            "  2.95664223e-01]\n",
            " [4.74181332e-02 4.72944706e-01 3.02446679e-01 8.34517507e-01\n",
            "  4.18889867e-01]\n",
            " [1.81602218e-01 4.93869434e-01 9.68660713e-01 6.19282365e-02\n",
            "  3.08931141e-01]\n",
            " [6.13402439e-01 7.18613843e-01 6.39658829e-01 2.75792270e-01\n",
            "  7.20951853e-01]\n",
            " [9.11146341e-01 4.76669160e-01 6.57611085e-01 8.16699886e-01\n",
            "  2.58627079e-01]\n",
            " [8.10496746e-01 4.01329227e-01 6.64857000e-01 2.19350253e-01\n",
            "  8.95777799e-01]\n",
            " [3.91708486e-01 6.59992172e-01 8.93362563e-01 6.49440897e-01\n",
            "  6.40598448e-01]\n",
            " [1.07975791e-01 9.51054223e-01 2.16478872e-01 4.11987999e-01\n",
            "  6.68999231e-01]\n",
            " [8.48437423e-01 3.28970819e-01 5.10736306e-01 5.80322159e-02\n",
            "  3.68354174e-01]\n",
            " [7.02102428e-01 9.36709521e-01 5.99802530e-02 8.49791950e-01\n",
            "  9.62482530e-01]\n",
            " [2.18781117e-02 3.76478418e-01 6.98357753e-01 8.61992984e-01\n",
            "  6.71093853e-01]\n",
            " [5.01620644e-01 3.53323972e-02 7.65414408e-01 3.12502947e-01\n",
            "  1.60001943e-01]\n",
            " [5.95636874e-01 1.24594956e-01 5.35408605e-02 8.69304095e-01\n",
            "  1.92667461e-01]\n",
            " [2.01502919e-01 4.68630355e-01 4.55943275e-03 9.36067477e-01\n",
            "  2.54323182e-02]\n",
            " [6.39881609e-01 4.13634961e-01 2.54446631e-01 3.24271969e-01\n",
            "  2.88925015e-01]\n",
            " [8.59030451e-01 4.12606215e-01 5.74105335e-01 5.39561843e-01\n",
            "  3.48668566e-01]\n",
            " [9.80912778e-01 2.09452957e-01 8.13081348e-01 4.72663492e-01\n",
            "  9.99437113e-01]\n",
            " [7.50681131e-01 3.28627093e-01 6.80964352e-01 9.32481932e-01\n",
            "  5.12404448e-01]\n",
            " [4.55475298e-01 1.05092348e-01 9.56421218e-01 7.70866629e-02\n",
            "  1.75157018e-01]\n",
            " [4.20747210e-01 1.82845079e-01 5.44271128e-02 7.02039173e-02\n",
            "  7.95356454e-01]\n",
            " [2.37175618e-01 2.71154136e-01 4.31010435e-01 7.90952611e-01\n",
            "  3.22577977e-01]\n",
            " [3.50521694e-01 8.15080234e-01 5.96950392e-01 8.94720944e-02\n",
            "  1.42517654e-01]\n",
            " [8.99047052e-01 5.87319108e-01 1.41299253e-01 1.03353918e-01\n",
            "  1.54637706e-01]\n",
            " [6.24249433e-01 9.99780793e-01 3.13988057e-01 3.52929685e-02\n",
            "  5.32279568e-01]\n",
            " [1.47198110e-01 4.36129940e-01 4.77775384e-01 3.22661011e-01\n",
            "  2.29700172e-01]\n",
            " [4.98129718e-01 2.07518511e-01 3.43726605e-02 3.63641269e-01\n",
            "  5.01514426e-01]\n",
            " [5.38151134e-01 6.04444587e-01 9.42453535e-01 7.96184222e-02\n",
            "  9.24248813e-01]\n",
            " [3.61582870e-01 4.27150843e-01 4.02735489e-01 8.72852506e-01\n",
            "  7.20277128e-01]\n",
            " [5.19866484e-01 3.09353496e-01 9.02727440e-01 2.42441950e-01\n",
            "  2.18400435e-01]\n",
            " [4.34649165e-01 5.41090058e-01 8.50727585e-01 8.89231442e-01\n",
            "  5.63756732e-01]\n",
            " [2.92063762e-02 9.68480772e-01 1.30829464e-01 3.85698923e-02\n",
            "  9.23264727e-01]\n",
            " [7.90427653e-02 1.82763077e-01 2.74680770e-01 7.97790481e-01\n",
            "  1.50774343e-01]\n",
            " [2.67949209e-01 1.04660406e-01 3.61447062e-01 3.60950816e-01\n",
            "  1.72191872e-02]\n",
            " [6.18874293e-01 8.78545796e-01 3.33154578e-02 8.18604151e-01\n",
            "  2.17399728e-01]\n",
            " [4.34474000e-01 5.32476736e-01 7.97972645e-01 8.78145742e-01\n",
            "  1.61034091e-02]\n",
            " [9.26243243e-01 1.67536509e-01 2.81438344e-01 3.92510773e-01\n",
            "  6.59778989e-01]\n",
            " [2.44027812e-01 5.35827371e-01 3.55922465e-01 2.02566600e-01\n",
            "  5.13606398e-02]\n",
            " [7.29314299e-01 6.25746472e-01 6.35412213e-02 8.03619500e-01\n",
            "  2.68110975e-01]\n",
            " [9.60808565e-01 4.99448703e-01 3.34435391e-02 9.11328920e-01\n",
            "  6.68551193e-01]\n",
            " [6.37892527e-01 9.54554555e-01 5.62974641e-01 2.67464888e-01\n",
            "  3.30395940e-01]\n",
            " [1.53632406e-01 5.10164226e-01 1.01172236e-01 9.47419046e-02\n",
            "  2.03974067e-01]\n",
            " [6.79749111e-01 5.12082670e-01 3.84889085e-01 3.99578663e-03\n",
            "  4.95179103e-01]\n",
            " [6.13911212e-01 1.52230117e-01 2.20914073e-01 4.90720040e-01\n",
            "  2.02749354e-01]\n",
            " [6.23725140e-01 9.56609503e-01 4.71333877e-01 6.34410963e-01\n",
            "  9.71694456e-01]\n",
            " [9.12818556e-01 8.00092317e-01 4.93087319e-01 2.22379874e-01\n",
            "  3.80671075e-01]\n",
            " [5.81388049e-01 9.96177240e-02 6.06318274e-01 4.08679740e-01\n",
            "  4.40424264e-01]\n",
            " [4.08767634e-01 2.70306103e-01 2.51518722e-04 1.71050889e-01\n",
            "  9.66222975e-01]\n",
            " [9.74825199e-01 5.56039413e-01 6.74618489e-01 2.81526898e-01\n",
            "  8.13222471e-01]\n",
            " [5.29473836e-02 4.91104928e-01 7.58758030e-01 3.34638048e-01\n",
            "  8.82850115e-01]\n",
            " [9.27182805e-01 6.76330332e-01 4.34190752e-01 2.12017757e-01\n",
            "  1.99139154e-01]\n",
            " [8.72263580e-01 5.01213917e-02 5.95778165e-01 3.61372116e-01\n",
            "  8.54586225e-01]\n",
            " [7.82660002e-01 1.18245080e-01 4.07798423e-01 7.96871402e-01\n",
            "  4.72978134e-02]\n",
            " [1.35024208e-01 7.76574194e-01 5.74011891e-01 8.06355439e-01\n",
            "  5.31002820e-01]\n",
            " [2.30462010e-01 8.57748816e-01 1.00567796e-01 8.46059266e-01\n",
            "  3.32823455e-01]\n",
            " [4.84203612e-01 2.84185767e-01 6.53071970e-01 2.50904233e-01\n",
            "  4.90598078e-01]\n",
            " [7.86292787e-01 4.93043008e-01 1.02473198e-01 1.01056163e-01\n",
            "  2.15773055e-01]\n",
            " [2.52633628e-01 7.38862587e-01 3.89678587e-01 8.67038528e-03\n",
            "  5.17392332e-01]\n",
            " [9.36975910e-01 9.44473384e-01 1.13974001e-01 5.51857745e-01\n",
            "  7.76005961e-01]\n",
            " [6.95721097e-02 5.29273171e-01 1.70303137e-02 9.49168051e-02\n",
            "  4.90560075e-01]\n",
            " [5.30746185e-01 7.04115457e-01 3.51037380e-01 6.35749829e-01\n",
            "  2.07153461e-02]\n",
            " [3.35248446e-02 1.27667878e-01 4.12915564e-02 3.68558476e-01\n",
            "  1.66348451e-02]\n",
            " [4.54239163e-01 3.88519825e-01 2.67118000e-01 3.65453429e-01\n",
            "  9.79505858e-01]\n",
            " [4.26500179e-01 9.34694331e-01 5.82174494e-01 6.13707297e-01\n",
            "  6.32270536e-01]\n",
            " [3.34132330e-01 4.05817125e-01 5.66204230e-01 7.06562324e-01\n",
            "  9.34532269e-01]\n",
            " [5.42696015e-01 7.63299181e-01 5.46468604e-01 2.82367496e-01\n",
            "  4.88589929e-01]\n",
            " [7.47324079e-01 9.36578230e-01 7.02158164e-01 1.58172328e-01\n",
            "  8.96653224e-01]\n",
            " [9.34864422e-01 9.95204112e-01 7.45458015e-01 8.22623205e-01\n",
            "  7.79361498e-01]\n",
            " [5.34576210e-01 9.19075955e-01 5.95907290e-01 3.72237069e-01\n",
            "  3.70185191e-01]\n",
            " [4.42923710e-01 6.94584596e-01 3.84658015e-01 8.96038147e-01\n",
            "  3.26717028e-01]\n",
            " [1.48931552e-01 6.16674094e-01 9.05820069e-01 4.28922779e-01\n",
            "  2.96599471e-01]\n",
            " [7.83493399e-01 3.20776067e-01 8.31302836e-01 4.47165320e-01\n",
            "  9.29530215e-01]\n",
            " [5.57513314e-01 9.80747217e-01 8.68236894e-01 8.95708826e-01\n",
            "  7.36008043e-02]\n",
            " [8.02818175e-01 1.81805020e-01 4.56310146e-01 6.76560464e-01\n",
            "  8.82234361e-01]\n",
            " [7.57664558e-01 8.45248427e-01 7.20714143e-01 8.77194213e-01\n",
            "  5.57445667e-03]\n",
            " [6.79637058e-01 7.83444752e-01 6.00812590e-01 6.28965540e-01\n",
            "  8.73685584e-01]\n",
            " [7.85649247e-01 7.97111016e-01 1.57401976e-01 4.08635460e-01\n",
            "  9.27564681e-01]\n",
            " [3.99844635e-01 4.97625221e-01 8.22012601e-01 7.84357240e-03\n",
            "  6.39530009e-01]\n",
            " [8.91163327e-01 2.82451802e-01 9.79822881e-01 6.20194322e-01\n",
            "  7.67801459e-01]\n",
            " [2.02816468e-01 3.97956003e-01 1.92912750e-01 9.70104341e-01\n",
            "  1.14279417e-01]\n",
            " [9.18946440e-01 7.44002557e-02 6.43000974e-01 3.00519279e-01\n",
            "  9.55717354e-01]\n",
            " [4.44755697e-01 7.13856224e-01 3.27660311e-01 1.09970665e-01\n",
            "  8.58923497e-01]]\n",
            "(150, 5)\n",
            "(150, 5)\n"
          ],
          "name": "stdout"
        }
      ]
    },
    {
      "cell_type": "markdown",
      "metadata": {
        "id": "hzR46ceA8SZp"
      },
      "source": [
        "### Задача 2\n",
        "\n",
        "* Выполните поэлементное умножение my_array на my_generated_array (раздел \"векторные операции\").\n",
        "\n",
        "* Склейте массивы my_array, my_generated_array в один (могут помочь методы np.concatenate, np.vstack, np.hstack).\n",
        "\n",
        "* Возьмите склеенный массив и разделите его на равные части (больше двух). Можно сделать вручную через циклы либо воспользоваться методом vsplit."
      ]
    },
    {
      "cell_type": "code",
      "metadata": {
        "id": "mkPNyfGDROaa",
        "colab": {
          "base_uri": "https://localhost:8080/",
          "height": 1000
        },
        "outputId": "ec838e81-dd09-4d5c-daeb-8be8295158e1"
      },
      "source": [
        "my_array*my_generated_array"
      ],
      "execution_count": null,
      "outputs": [
        {
          "output_type": "execute_result",
          "data": {
            "text/plain": [
              "array([[0.00000000e+00, 2.12938912e+00, 1.51531533e+00, 7.58883388e-01,\n",
              "        2.06834386e-02],\n",
              "       [5.98311179e-01, 3.77201780e+00, 1.56174798e-01, 4.40194314e-01,\n",
              "        8.41307984e-02],\n",
              "       [1.50108192e+00, 2.56376112e+00, 2.08553793e+00, 7.27613221e-01,\n",
              "        7.13466003e-02],\n",
              "       [1.03873133e+00, 2.27144584e-01, 1.62756212e+00, 1.28228723e+00,\n",
              "        1.95395063e-02],\n",
              "       [1.76827309e+00, 1.75013104e-01, 9.14056100e-01, 3.84639486e-01,\n",
              "        3.63466358e-02],\n",
              "       [2.00021808e+00, 8.87848395e-01, 2.90453857e+00, 5.26721092e-01,\n",
              "        1.36769637e-02],\n",
              "       [3.67517165e+00, 7.12119821e-01, 2.21605628e-01, 1.35663132e+00,\n",
              "        1.53328692e-01],\n",
              "       [5.83282901e+00, 3.44308238e+00, 4.15174762e-01, 3.76920394e-01,\n",
              "        7.16268558e-02],\n",
              "       [1.39891620e+00, 2.16489622e+00, 2.41527280e+00, 7.97747256e-01,\n",
              "        1.88607599e-01],\n",
              "       [2.45561161e+00, 2.22758108e+00, 2.15167788e+00, 2.34915712e-01,\n",
              "        7.75576290e-02],\n",
              "       [5.95772814e+00, 1.79372166e+00, 2.91029995e+00, 5.27234757e-02,\n",
              "        6.94573791e-03],\n",
              "       [1.02151276e+01, 1.51159224e+00, 1.86496932e+00, 4.95670089e-01,\n",
              "        9.31587673e-02],\n",
              "       [1.18037305e+00, 3.59071015e+00, 2.43105649e+00, 7.32833390e-01,\n",
              "        7.61006120e-03],\n",
              "       [1.09185592e+01, 2.52044507e+00, 2.99158864e+00, 6.96762914e-01,\n",
              "        7.94979203e-02],\n",
              "       [2.75582716e-01, 6.09262735e-01, 3.54297700e+00, 5.90881777e-02,\n",
              "        6.76035012e-02],\n",
              "       [7.92714785e+00, 2.48913802e+00, 3.54814999e+00, 1.19644532e+00,\n",
              "        1.22821557e-01],\n",
              "       [5.67317756e+00, 3.87408914e+00, 3.45959166e+00, 6.15617669e-01,\n",
              "        2.61012219e-01],\n",
              "       [1.43237551e+01, 1.41347047e+00, 2.47228035e+00, 1.08133732e+00,\n",
              "        7.82782989e-02],\n",
              "       [1.10316538e+00, 9.61103377e-01, 3.20966615e+00, 3.68676024e-01,\n",
              "        1.00146277e-01],\n",
              "       [1.28471965e+01, 4.39098860e+00, 8.26661090e-01, 9.00331700e-02,\n",
              "        2.38279671e-01],\n",
              "       [1.21713016e+01, 5.30410915e+00, 2.47804795e+00, 7.63483286e-01,\n",
              "        1.85155030e-01],\n",
              "       [2.03293963e+01, 4.58280564e-01, 1.01433029e-01, 4.16264254e-01,\n",
              "        6.87944925e-02],\n",
              "       [2.49630043e-01, 2.12313319e+00, 8.14472240e-01, 5.49088373e-01,\n",
              "        9.38540864e-02],\n",
              "       [1.88603908e+01, 4.05056663e+00, 1.93148305e+00, 1.44212738e+00,\n",
              "        3.55276477e-01],\n",
              "       [1.52960076e+01, 4.50853187e+00, 3.15678729e+00, 1.50332640e+00,\n",
              "        6.43370842e-02],\n",
              "       [1.58639012e+00, 4.72742576e-01, 9.08253838e-02, 5.86243583e-01,\n",
              "        1.70790975e-01],\n",
              "       [1.36646319e+01, 2.31140190e-01, 2.06108250e+00, 3.86023282e-01,\n",
              "        2.08713166e-01],\n",
              "       [1.11764981e+01, 1.78484535e+00, 7.66271621e-01, 9.56694618e-01,\n",
              "        1.01514371e-02],\n",
              "       [4.26695542e+00, 7.57348145e-01, 1.62141255e+00, 4.08449686e-01,\n",
              "        1.45498367e-01],\n",
              "       [1.51336582e+01, 3.73470840e+00, 7.25822713e-01, 1.00620587e+00,\n",
              "        1.44186386e-01],\n",
              "       [2.73554864e+01, 1.73678556e+00, 9.28892091e-01, 5.59389602e-01,\n",
              "        2.07314207e-02],\n",
              "       [2.75697102e+00, 4.49796601e+00, 1.49279014e+00, 4.51924521e-01,\n",
              "        2.90364863e-01],\n",
              "       [3.17156531e+01, 2.26060690e+00, 8.63651534e-01, 1.27409869e+00,\n",
              "        5.49337822e-02],\n",
              "       [1.16229401e+01, 1.81511594e+00, 4.11424820e+00, 9.75563173e-01,\n",
              "        1.13362434e-01],\n",
              "       [1.38570434e+01, 6.21467536e-01, 1.57005043e+00, 2.76308955e-01,\n",
              "        7.36434316e-02],\n",
              "       [3.24540890e+01, 4.22705974e+00, 5.46225342e-01, 1.18052852e-01,\n",
              "        1.95638127e-01],\n",
              "       [9.12509732e+00, 3.28501063e+00, 2.00174559e+00, 5.94641080e-01,\n",
              "        8.33875155e-02],\n",
              "       [7.96459797e+00, 1.31539441e+00, 1.39617295e+00, 8.97567040e-02,\n",
              "        7.90229042e-02],\n",
              "       [2.65186380e+01, 3.17290541e+00, 1.81475832e+00, 8.49558761e-02,\n",
              "        1.25343865e-01],\n",
              "       [2.93836670e+01, 4.05234912e+00, 1.75335689e+00, 6.47170155e-01,\n",
              "        5.70369656e-03],\n",
              "       [2.51788076e+01, 2.50372936e+00, 2.11360576e+00, 4.78642812e-01,\n",
              "        1.64188471e-02],\n",
              "       [3.15518252e+01, 3.52344453e+00, 2.01143463e+00, 5.84326534e-01,\n",
              "        9.85349654e-03],\n",
              "       [3.46031498e+01, 1.72281407e+00, 2.88220350e+00, 4.53708369e-01,\n",
              "        7.93116356e-02],\n",
              "       [1.56966177e+01, 2.13789953e+00, 3.41756297e+00, 3.95674837e-01,\n",
              "        1.50814667e-01],\n",
              "       [2.54016512e+01, 2.54266216e+00, 2.63432316e+00, 1.11198003e+00,\n",
              "        7.39318878e-02],\n",
              "       [1.08664630e+00, 1.33159070e+00, 1.76773759e-01, 4.11680098e-01,\n",
              "        1.58477788e-01],\n",
              "       [6.93106399e+00, 2.30889224e+00, 7.50192896e-02, 2.23468213e-01,\n",
              "        1.14766864e-02],\n",
              "       [7.77720492e-01, 2.24017530e+00, 4.70998930e-01, 1.19545130e+00,\n",
              "        1.95310794e-02],\n",
              "       [2.62989872e+01, 7.46203618e-01, 2.25154990e+00, 3.73836712e-01,\n",
              "        1.98417498e-01],\n",
              "       [1.25300074e+01, 2.68629263e+00, 2.54159044e+00, 9.66531323e-01,\n",
              "        4.43563601e-02],\n",
              "       [3.54459524e+01, 6.93718166e+00, 4.37166060e-01, 4.43240218e+00,\n",
              "        4.05816588e-01],\n",
              "       [3.44877819e+01, 1.53808954e+00, 1.10639804e+00, 4.39973545e+00,\n",
              "        1.26494167e+00],\n",
              "       [1.79089185e+01, 5.04028528e+00, 2.84323758e+00, 5.71607208e-01,\n",
              "        1.08027640e+00],\n",
              "       [2.03541405e+01, 2.32675394e+00, 2.13483075e+00, 1.58675208e+00,\n",
              "        1.08039117e+00],\n",
              "       [3.86117087e+01, 2.19434562e+00, 1.51583820e+00, 3.91841667e+00,\n",
              "        1.15747463e+00],\n",
              "       [1.29473149e+01, 1.12035687e+00, 2.25086249e+00, 4.00727663e+00,\n",
              "        4.33319800e-01],\n",
              "       [5.55168769e+01, 5.23798448e+00, 4.63459228e-01, 2.64745199e+00,\n",
              "        7.21221886e-02],\n",
              "       [4.74417068e+00, 3.39028467e+00, 3.10286336e-01, 5.39895575e-02,\n",
              "        6.66320344e-01],\n",
              "       [4.68783567e+01, 5.11009004e+00, 2.63270619e+00, 3.83932956e+00,\n",
              "        7.77466478e-01],\n",
              "       [2.18623550e+01, 2.53193150e+00, 1.05387029e+00, 3.02383684e+00,\n",
              "        7.99209978e-01],\n",
              "       [5.98224941e+00, 2.93392772e+00, 2.61905497e-02, 8.88107391e-01,\n",
              "        7.11511225e-02],\n",
              "       [5.59096215e+01, 2.89562007e+00, 2.20494050e+00, 1.93901083e+00,\n",
              "        4.82693708e-01],\n",
              "       [6.03155159e+01, 4.85574491e-02, 1.86586191e+00, 9.07982359e-01,\n",
              "        6.99477992e-01],\n",
              "       [5.22968671e+01, 3.34612613e+00, 3.20722188e-01, 1.73415787e+00,\n",
              "        1.36204502e+00],\n",
              "       [4.91759450e+01, 2.97026529e+00, 4.88729875e-01, 1.14483606e+00,\n",
              "        1.69502569e-01],\n",
              "       [5.75325129e+01, 4.20052600e+00, 1.48875613e+00, 4.13658017e+00,\n",
              "        8.32929390e-01],\n",
              "       [6.00207076e+01, 7.48396971e-01, 5.19837122e-01, 3.82147594e+00,\n",
              "        1.28387008e-01],\n",
              "       [3.17072138e+01, 5.19758382e+00, 7.97976138e-01, 2.69047269e+00,\n",
              "        7.07523639e-01],\n",
              "       [4.42577590e+01, 6.75317234e-01, 6.78726018e-01, 3.80694819e+00,\n",
              "        1.25968771e+00],\n",
              "       [2.24930265e+01, 5.35654770e-01, 1.65905689e+00, 2.47127111e+00,\n",
              "        3.25230645e-01],\n",
              "       [3.31926933e+00, 2.79037376e+00, 9.67829371e-01, 4.00568403e+00,\n",
              "        7.54001761e-01],\n",
              "       [1.28937575e+01, 3.01260355e+00, 2.71225000e+00, 2.47712946e-01,\n",
              "        4.01610484e-01],\n",
              "       [4.41649756e+01, 4.52726721e+00, 1.59914707e+00, 1.35138212e+00,\n",
              "        1.08142778e+00],\n",
              "       [6.65136829e+01, 2.90768187e+00, 1.84131104e+00, 3.83848946e+00,\n",
              "        3.10352495e-01],\n",
              "       [5.99767592e+01, 2.56850705e+00, 1.92808530e+00, 9.43206086e-01,\n",
              "        1.16451114e+00],\n",
              "       [2.93781364e+01, 4.35594834e+00, 2.68008769e+00, 2.85753995e+00,\n",
              "        8.96837828e-01],\n",
              "       [8.20616009e+00, 6.46716872e+00, 6.06140842e-01, 1.97754239e+00,\n",
              "        9.36598924e-01],\n",
              "       [6.53296816e+01, 2.20410449e+00, 1.53220892e+00, 2.90161079e-01,\n",
              "        6.26202096e-01],\n",
              "       [5.47639894e+01, 5.62025712e+00, 1.73942734e-01, 3.82406378e+00,\n",
              "        1.44372380e+00],\n",
              "       [1.72837082e+00, 2.14592698e+00, 1.81573016e+00, 3.01697545e+00,\n",
              "        6.71093853e-01],\n",
              "       [4.01296515e+01, 1.94328185e-01, 1.83699458e+00, 1.18751120e+00,\n",
              "        1.76002137e-01],\n",
              "       [4.82465868e+01, 6.85272257e-01, 1.28498065e-01, 3.21642515e+00,\n",
              "        1.92667461e-01],\n",
              "       [1.65232394e+01, 2.71805606e+00, 1.23104684e-02, 3.65066316e+00,\n",
              "        3.05187819e-02],\n",
              "       [5.31101735e+01, 2.48180977e+00, 6.87005903e-01, 1.65378704e+00,\n",
              "        4.62280024e-01],\n",
              "       [7.21585579e+01, 2.22807356e+00, 1.72231600e+00, 2.42802829e+00,\n",
              "        5.23002850e-01],\n",
              "       [8.33775861e+01, 1.25671774e+00, 2.76447658e+00, 2.12698571e+00,\n",
              "        1.59909938e+00],\n",
              "       [6.45585772e+01, 2.20180152e+00, 2.11098949e+00, 4.38266508e+00,\n",
              "        7.68606672e-01],\n",
              "       [3.96263509e+01, 6.62081789e-01, 2.19976880e+00, 3.39181317e-01,\n",
              "        2.27704124e-01],\n",
              "       [3.70257545e+01, 1.02393244e+00, 1.63281338e-01, 2.87836061e-01,\n",
              "        1.03396339e+00],\n",
              "       [2.11086300e+01, 1.49134775e+00, 1.07752609e+00, 3.16381044e+00,\n",
              "        4.19351371e-01],\n",
              "       [3.15469524e+01, 4.48294129e+00, 1.55207102e+00, 3.93677216e-01,\n",
              "        1.71021185e-01],\n",
              "       [8.18132817e+01, 3.58264656e+00, 4.23897758e-01, 4.75428025e-01,\n",
              "        2.16492788e-01],\n",
              "       [5.74309478e+01, 5.79872860e+00, 8.16368949e-01, 1.41171874e-01,\n",
              "        6.38735481e-01],\n",
              "       [1.36894243e+01, 2.18064970e+00, 1.09888338e+00, 1.06478134e+00,\n",
              "        2.29700172e-01],\n",
              "       [4.68241935e+01, 1.16210366e+00, 9.28061833e-02, 1.52729333e+00,\n",
              "        6.51968754e-01],\n",
              "       [5.11243577e+01, 3.44533415e+00, 2.82736060e+00, 3.34397373e-01,\n",
              "        1.10909858e+00],\n",
              "       [3.47119556e+01, 2.43475980e+00, 1.16793292e+00, 3.66598052e+00,\n",
              "        9.36360266e-01],\n",
              "       [5.04270490e+01, 1.91799168e+00, 2.61790957e+00, 1.04250038e+00,\n",
              "        2.83920566e-01],\n",
              "       [4.25956182e+01, 2.75955929e+00, 2.12681896e+00, 2.66769433e+00,\n",
              "        6.20132405e-01],\n",
              "       [2.89143125e+00, 5.52034040e+00, 3.66322499e-01, 1.58136559e-01,\n",
              "        1.20024414e+00],\n",
              "       [7.90427653e+00, 1.15140739e+00, 9.06446542e-01, 4.78674289e+00,\n",
              "        3.76935857e-01],\n",
              "       [2.70628701e+01, 6.07030352e-01, 9.75907067e-01, 1.84084916e+00,\n",
              "        3.27164557e-02],\n",
              "       [6.31251779e+01, 6.23767515e+00, 9.99463733e-02, 4.82976449e+00,\n",
              "        4.56539428e-01],\n",
              "       [4.47508220e+01, 3.35460344e+00, 2.31412067e+00, 4.91761615e+00,\n",
              "        2.89861364e-02],\n",
              "       [9.63292973e+01, 1.08898731e+00, 8.44315032e-01, 2.27656248e+00,\n",
              "        1.45151377e+00],\n",
              "       [2.56229203e+01, 4.07228802e+00, 1.06776740e+00, 1.33693956e+00,\n",
              "        1.07857344e-01],\n",
              "       [7.73073157e+01, 3.06615771e+00, 1.58853053e-01, 3.61628775e+00,\n",
              "        4.55788658e-01],\n",
              "       [1.02806516e+02, 3.64597553e+00, 9.69862634e-02, 5.74137220e+00,\n",
              "        1.20339215e+00],\n",
              "       [6.88923929e+01, 6.39551552e+00, 1.40743660e+00, 1.55129635e+00,\n",
              "        5.94712692e-01],\n",
              "       [1.67459322e+01, 3.67318242e+00, 3.64220050e-01, 5.77925618e-01,\n",
              "        5.09935166e-01],\n",
              "       [7.47724022e+01, 3.32853735e+00, 1.23164507e+00, 2.03785118e-02,\n",
              "        9.90358207e-01],\n",
              "       [6.81441446e+01, 9.74272746e-01, 5.96467996e-01, 2.60081621e+00,\n",
              "        3.85223773e-01],\n",
              "       [6.98572157e+01, 6.50494462e+00, 1.41400163e+00, 3.48926030e+00,\n",
              "        2.04055836e+00],\n",
              "       [1.03148497e+02, 4.56052621e+00, 1.23271830e+00, 1.11189937e+00,\n",
              "        7.61342151e-01],\n",
              "       [6.62782376e+01, 5.77782799e-01, 1.69769117e+00, 2.08426667e+00,\n",
              "        1.05701823e+00],\n",
              "       [4.70082779e+01, 1.72995906e+00, 8.04859911e-04, 9.06569711e-01,\n",
              "        2.22231284e+00],\n",
              "       [1.13079723e+02, 3.61425618e+00, 2.02385547e+00, 1.54839794e+00,\n",
              "        1.46380045e+00],\n",
              "       [6.19484388e+00, 3.78150794e+00, 2.88328052e+00, 2.24207492e+00,\n",
              "        1.94227025e+00],\n",
              "       [1.09407571e+02, 5.20774356e+00, 1.12889595e+00, 1.46292252e+00,\n",
              "        4.58020053e-01],\n",
              "       [1.03799366e+02, 3.00728350e-01, 1.31071196e+00, 1.80686058e+00,\n",
              "        1.28187934e+00],\n",
              "       [9.39192002e+01, 8.15891050e-01, 1.30495495e+00, 4.54216699e+00,\n",
              "        1.08784971e-01],\n",
              "       [1.63379292e+01, 4.34881549e+00, 1.60723329e+00, 3.95114165e+00,\n",
              "        1.06200564e+00],\n",
              "       [2.81163652e+01, 6.60466588e+00, 2.81589829e-01, 5.66859708e+00,\n",
              "        6.65646910e-01],\n",
              "       [5.95570443e+01, 1.79037033e+00, 1.76329432e+00, 1.22943074e+00,\n",
              "        8.83076540e-01],\n",
              "       [9.75003056e+01, 3.30338815e+00, 3.38161552e-01, 5.76020126e-01,\n",
              "        4.53123416e-01],\n",
              "       [3.15792035e+01, 5.31981062e+00, 1.24697148e+00, 5.20223117e-02,\n",
              "        9.31306197e-01],\n",
              "       [1.18058965e+02, 5.85573498e+00, 3.19127204e-01, 2.64891718e+00,\n",
              "        1.39681073e+00],\n",
              "       [8.83565793e+00, 3.22856634e+00, 5.10909412e-02, 4.65092345e-01,\n",
              "        8.83008135e-01],\n",
              "       [6.79355117e+01, 4.50633892e+00, 9.82904664e-01, 3.56019904e+00,\n",
              "        4.35022267e-02],\n",
              "       [4.32470496e+00, 9.19208721e-01, 1.23874669e-01, 2.13763916e+00,\n",
              "        2.66157522e-02],\n",
              "       [5.90510912e+01, 2.87504670e+00, 7.47930399e-01, 2.22926591e+00,\n",
              "        1.86106113e+00],\n",
              "       [5.58715235e+01, 7.38408521e+00, 2.21226308e+00, 3.92772670e+00,\n",
              "        1.26454107e+00],\n",
              "       [4.41054676e+01, 2.59722960e+00, 1.58537184e+00, 3.95674901e+00,\n",
              "        2.05597099e+00],\n",
              "       [7.21785700e+01, 4.80878484e+00, 1.53011209e+00, 1.44007423e+00,\n",
              "        7.32884893e-01],\n",
              "       [1.00141427e+02, 5.71312720e+00, 1.82561123e+00, 8.85765035e-01,\n",
              "        1.25531451e+00],\n",
              "       [1.26206697e+02, 7.66307166e+00, 2.23637405e+00, 5.01800155e+00,\n",
              "        1.79253145e+00],\n",
              "       [7.27023646e+01, 5.79017852e+00, 2.02608479e+00, 2.08452759e+00,\n",
              "        8.88444458e-01],\n",
              "       [6.06805483e+01, 4.44534142e+00, 1.19243985e+00, 4.92820981e+00,\n",
              "        5.88090650e-01],\n",
              "       [2.05525542e+01, 3.70004456e+00, 2.71746021e+00, 2.05882934e+00,\n",
              "        5.33879047e-01],\n",
              "       [1.08905582e+02, 2.21335486e+00, 2.57703879e+00, 2.41469273e+00,\n",
              "        1.95201345e+00],\n",
              "       [7.80518640e+01, 6.57100636e+00, 2.69153437e+00, 5.01596943e+00,\n",
              "        1.76641930e-01],\n",
              "       [1.13197363e+02, 1.25445464e+00, 1.41456145e+00, 3.45045837e+00,\n",
              "        2.02913903e+00],\n",
              "       [1.07588367e+02, 4.90244088e+00, 1.94592819e+00, 4.47369048e+00,\n",
              "        1.05914677e-02],\n",
              "       [9.71880993e+01, 5.32742432e+00, 1.92260029e+00, 3.71089669e+00,\n",
              "        2.00947684e+00],\n",
              "       [1.13133492e+02, 5.34064381e+00, 5.19426519e-01, 2.32922212e+00,\n",
              "        2.31891170e+00],\n",
              "       [5.79774721e+01, 3.33408898e+00, 2.46603780e+00, 4.07865765e-02,\n",
              "        1.47091902e+00],\n",
              "       [1.30109846e+02, 1.77944635e+00, 2.44955720e+00, 3.10097161e+00,\n",
              "        1.45882277e+00],\n",
              "       [2.98140207e+01, 2.58671402e+00, 5.78738250e-01, 5.04454257e+00,\n",
              "        2.28558835e-01],\n",
              "       [1.36004073e+02, 4.61281585e-01, 2.18620331e+00, 1.62280411e+00,\n",
              "        2.19814991e+00],\n",
              "       [6.62685989e+01, 4.21175172e+00, 9.82980934e-01, 5.60850389e-01,\n",
              "        1.54606229e+00]])"
            ]
          },
          "metadata": {
            "tags": []
          },
          "execution_count": 10
        }
      ]
    },
    {
      "cell_type": "code",
      "metadata": {
        "id": "24Fdx5fhUB9Y",
        "colab": {
          "base_uri": "https://localhost:8080/",
          "height": 136
        },
        "outputId": "b7d6ace3-5d69-4fc6-b8d0-c252a7705c15"
      },
      "source": [
        "np.concatenate((my_array,my_generated_array))"
      ],
      "execution_count": null,
      "outputs": [
        {
          "output_type": "execute_result",
          "data": {
            "text/plain": [
              "array([[0.        , 5.1       , 3.5       , 1.4       , 0.2       ],\n",
              "       [1.        , 4.9       , 3.        , 1.4       , 0.2       ],\n",
              "       [2.        , 4.7       , 3.2       , 1.3       , 0.2       ],\n",
              "       ...,\n",
              "       [0.20281647, 0.397956  , 0.19291275, 0.97010434, 0.11427942],\n",
              "       [0.91894644, 0.07440026, 0.64300097, 0.30051928, 0.95571735],\n",
              "       [0.4447557 , 0.71385622, 0.32766031, 0.10997066, 0.8589235 ]])"
            ]
          },
          "metadata": {
            "tags": []
          },
          "execution_count": 11
        }
      ]
    },
    {
      "cell_type": "code",
      "metadata": {
        "id": "ZSBmfDoVUvzf",
        "colab": {
          "base_uri": "https://localhost:8080/",
          "height": 136
        },
        "outputId": "4239d181-16e6-497a-982f-72b4d985a492"
      },
      "source": [
        "np.vstack((my_array,my_generated_array))"
      ],
      "execution_count": null,
      "outputs": [
        {
          "output_type": "execute_result",
          "data": {
            "text/plain": [
              "array([[0.        , 5.1       , 3.5       , 1.4       , 0.2       ],\n",
              "       [1.        , 4.9       , 3.        , 1.4       , 0.2       ],\n",
              "       [2.        , 4.7       , 3.2       , 1.3       , 0.2       ],\n",
              "       ...,\n",
              "       [0.20281647, 0.397956  , 0.19291275, 0.97010434, 0.11427942],\n",
              "       [0.91894644, 0.07440026, 0.64300097, 0.30051928, 0.95571735],\n",
              "       [0.4447557 , 0.71385622, 0.32766031, 0.10997066, 0.8589235 ]])"
            ]
          },
          "metadata": {
            "tags": []
          },
          "execution_count": 12
        }
      ]
    },
    {
      "cell_type": "code",
      "metadata": {
        "id": "fhbBzwG1VGSW",
        "colab": {
          "base_uri": "https://localhost:8080/",
          "height": 238
        },
        "outputId": "2f27642f-7a57-4aeb-a5da-319abc18f0a1"
      },
      "source": [
        "np.hstack((my_array,my_generated_array))"
      ],
      "execution_count": null,
      "outputs": [
        {
          "output_type": "execute_result",
          "data": {
            "text/plain": [
              "array([[0.00000000e+00, 5.10000000e+00, 3.50000000e+00, ...,\n",
              "        4.32947237e-01, 5.42059563e-01, 1.03417193e-01],\n",
              "       [1.00000000e+00, 4.90000000e+00, 3.00000000e+00, ...,\n",
              "        5.20582658e-02, 3.14424510e-01, 4.20653992e-01],\n",
              "       [2.00000000e+00, 4.70000000e+00, 3.20000000e+00, ...,\n",
              "        6.51730602e-01, 5.59702478e-01, 3.56733001e-01],\n",
              "       ...,\n",
              "       [1.47000000e+02, 6.50000000e+00, 3.00000000e+00, ...,\n",
              "        1.92912750e-01, 9.70104341e-01, 1.14279417e-01],\n",
              "       [1.48000000e+02, 6.20000000e+00, 3.40000000e+00, ...,\n",
              "        6.43000974e-01, 3.00519279e-01, 9.55717354e-01],\n",
              "       [1.49000000e+02, 5.90000000e+00, 3.00000000e+00, ...,\n",
              "        3.27660311e-01, 1.09970665e-01, 8.58923497e-01]])"
            ]
          },
          "metadata": {
            "tags": []
          },
          "execution_count": 13
        }
      ]
    },
    {
      "cell_type": "markdown",
      "metadata": {
        "id": "z08ODJt78SZw"
      },
      "source": [
        "### Задача 3\n",
        "\n",
        "Найдите все элементы массива my_array, которые больше трех и меньше 5 одновременно. Используйте методологию подвыборки массива с условием (раздел \"Индексация\")."
      ]
    },
    {
      "cell_type": "code",
      "metadata": {
        "id": "gW4sp-wKXeCh",
        "colab": {
          "base_uri": "https://localhost:8080/",
          "height": 204
        },
        "outputId": "b43bb92f-9693-4298-a40d-877bb00e79b9"
      },
      "source": [
        "my_array[(my_array>3) & (my_array<5)]"
      ],
      "execution_count": null,
      "outputs": [
        {
          "output_type": "execute_result",
          "data": {
            "text/plain": [
              "array([3.5, 4.9, 4.7, 3.2, 4.6, 3.1, 4. , 3.6, 3.9, 4.6, 3.4, 3.4, 4.4,\n",
              "       4.9, 3.1, 3.7, 4.8, 3.4, 4.8, 4.3, 4. , 4.4, 3.9, 3.5, 3.8, 3.8,\n",
              "       3.4, 3.7, 4.6, 3.6, 3.3, 4.8, 3.4, 3.4, 3.5, 3.4, 4.7, 3.2, 4.8,\n",
              "       3.1, 3.4, 4.1, 4.2, 4.9, 3.1, 3.2, 3.5, 4.9, 3.6, 4.4, 3.4, 3.5,\n",
              "       4.5, 4.4, 3.2, 3.5, 3.8, 4.8, 3.8, 4.6, 3.2, 3.7, 3.3, 3.2, 4.7,\n",
              "       3.2, 4.5, 3.1, 4.9, 4. , 4.6, 4.5, 3.3, 4.7, 4.9, 3.3, 4.6, 3.9,\n",
              "       3.5, 4.2, 4. , 4.7, 3.6, 3.1, 4.4, 4.5, 4.1, 4.5, 3.9, 3.2, 4.8,\n",
              "       4. , 4.9, 4.7, 4.3, 4.4, 4.8, 4.5, 3.5, 3.8, 3.7, 3.9, 4.5, 3.4,\n",
              "       4.5, 3.1, 4.7, 4.4, 4.1, 4. , 4.4, 4.6, 4. , 3.3, 4.2, 4.2, 4.2,\n",
              "       4.3, 4.1, 3.3, 4.9, 4.5, 3.6, 3.2, 3.2, 3.8, 3.2, 4.9, 4.9, 3.3,\n",
              "       3.2, 4.8, 4.9, 3.8, 3.4, 3.1, 4.8, 3.1, 3.1, 3.1, 3.2, 3.3, 3.4])"
            ]
          },
          "metadata": {
            "tags": []
          },
          "execution_count": 14
        }
      ]
    },
    {
      "cell_type": "markdown",
      "metadata": {
        "id": "_8q3NF_k8SaA"
      },
      "source": [
        "### Задача 4\n",
        "Создайте трехмерный массив формы 2х3х4, состоящий из случайных целых чисел от 15 до 37, не включительно.\n",
        "\n",
        "Используя полученный массив, преобразуйте его в новый со следующими значениями:\n",
        "\n",
        "    * \"small\", если значения меньше 20\n",
        "    * \"medium\", если значения в промежутке [20, 30]\n",
        "    * \"large\", если значения больше 30\n",
        "\n",
        "На выходе должен быть массив той же формы, но состоящий из строк.\n",
        "\n",
        "Подсказка - создайте массив из строк, и меняйте его, опираясь на массив из чисел."
      ]
    },
    {
      "cell_type": "code",
      "metadata": {
        "id": "blldAuxFZnlb",
        "colab": {
          "base_uri": "https://localhost:8080/",
          "height": 272
        },
        "outputId": "65e0f2c7-ae15-4016-e4ea-7640874f491e"
      },
      "source": [
        "my_array3=np.random.randint(15,37,(2,3,4))\n",
        "my_array3_changed=np.zeros_like(my_array3, 'U8')\n",
        "my_array3_changed[my_array3<20]='small'\n",
        "my_array3_changed[(my_array3>=20)& (my_array3<=30)]='medium'\n",
        "my_array3_changed[my_array3>30]='large'\n",
        "print(my_array3)\n",
        "print('\\n',my_array3_changed)"
      ],
      "execution_count": null,
      "outputs": [
        {
          "output_type": "stream",
          "text": [
            "[[[23 30 30 26]\n",
            "  [17 35 24 34]\n",
            "  [32 33 28 24]]\n",
            "\n",
            " [[31 21 19 32]\n",
            "  [17 23 32 18]\n",
            "  [15 16 18 32]]]\n",
            "\n",
            " [[['medium' 'medium' 'medium' 'medium']\n",
            "  ['small' 'large' 'medium' 'large']\n",
            "  ['large' 'large' 'medium' 'medium']]\n",
            "\n",
            " [['large' 'medium' 'small' 'large']\n",
            "  ['small' 'medium' 'large' 'small']\n",
            "  ['small' 'small' 'small' 'large']]]\n"
          ],
          "name": "stdout"
        }
      ]
    },
    {
      "cell_type": "markdown",
      "metadata": {
        "id": "hOhMOcs18SaF"
      },
      "source": [
        "### Задача 5\n",
        "\n",
        "Создайте одномерный массив из случайных 10 вещественных значений. Выведите массив на экран.\n",
        "\n",
        "* Не используя циклы, найдите сумму значений с 3 по 7 элемент, не включительно. Помните, что индексы начинаются с 0.\n",
        "* Найдите сумму квадратов последних двух элементов. \n",
        "\n",
        "Продвинутый вариант решения - взять два последних значения подвыборкой, применив отрицательную индексацию и слайсинг, возведя выбранный массив в квадрат и просуммировав значения."
      ]
    },
    {
      "cell_type": "code",
      "metadata": {
        "id": "JblGWq1SvhAq",
        "colab": {
          "base_uri": "https://localhost:8080/",
          "height": 85
        },
        "outputId": "4574b73b-08d1-4aa9-b37f-7048714ac168"
      },
      "source": [
        "my_array4 = np.random.uniform(10,size=10)\n",
        "print(my_array4)\n",
        "print(my_array4[2:6].sum())\n",
        "print((my_array4[-2:]**2).sum())\n"
      ],
      "execution_count": null,
      "outputs": [
        {
          "output_type": "stream",
          "text": [
            "[8.85020279 7.87936096 8.82848155 5.2259237  6.05608507 3.21834113\n",
            " 7.1742951  3.84400064 2.91388421 2.49431024]\n",
            "23.328831445570476\n",
            "14.712304766978821\n"
          ],
          "name": "stdout"
        }
      ]
    },
    {
      "cell_type": "markdown",
      "metadata": {
        "id": "pi95zPDxusas"
      },
      "source": [
        "### Задача 6\n",
        "\n",
        "* Создайте структурированный массив (гуглите structured arrays numpy), который будет содержать списки с именем студента(str), его возрастом(int) и средней оценкой(float) (обратите внимание на пример с занятия со списком автомобильных регионов).\n",
        "* Отсортируйте такой массив по одной из колонок.(обратите внимание на параметр order метода sort()).\n",
        "* Замените значение, отвечающее за возраст, у всех студентов на одно и то же, например, 10."
      ]
    },
    {
      "cell_type": "code",
      "metadata": {
        "id": "Ed7R5PChU-fP",
        "colab": {
          "base_uri": "https://localhost:8080/",
          "height": 68
        },
        "outputId": "f2a4a131-a578-4387-fc96-1b28924921b0"
      },
      "source": [
        "my_array5=np.array([('Sergey', 19, 4.85),('Roman', 18, 4.43),('Egor', 20, 4.65),('Elena', 20, 4.70)], dtype=[('Name', 'U16'),('Age', int),('Average grade', float)])\n",
        "my_array5\n"
      ],
      "execution_count": null,
      "outputs": [
        {
          "output_type": "execute_result",
          "data": {
            "text/plain": [
              "array([('Sergey', 19, 4.85), ('Roman', 18, 4.43), ('Egor', 20, 4.65),\n",
              "       ('Elena', 20, 4.7 )],\n",
              "      dtype=[('Name', '<U16'), ('Age', '<i8'), ('Average grade', '<f8')])"
            ]
          },
          "metadata": {
            "tags": []
          },
          "execution_count": 41
        }
      ]
    },
    {
      "cell_type": "code",
      "metadata": {
        "id": "DRYDxehw9Gab",
        "colab": {
          "base_uri": "https://localhost:8080/",
          "height": 51
        },
        "outputId": "9bd40ba2-b1aa-4733-8a08-e5e1e235a78c"
      },
      "source": [
        "my_array5.sort(order='Average grade')\n",
        "print(my_array5)"
      ],
      "execution_count": null,
      "outputs": [
        {
          "output_type": "stream",
          "text": [
            "[('Roman', 18, 4.43) ('Egor', 20, 4.65) ('Elena', 20, 4.7 )\n",
            " ('Sergey', 19, 4.85)]\n"
          ],
          "name": "stdout"
        }
      ]
    },
    {
      "cell_type": "code",
      "metadata": {
        "id": "2UtEZXmb9OQB",
        "colab": {
          "base_uri": "https://localhost:8080/",
          "height": 51
        },
        "outputId": "df5f9cda-04e3-4521-a9b8-ee0849aa2da3"
      },
      "source": [
        "my_array5['Age']=10\n",
        "print(my_array5)"
      ],
      "execution_count": null,
      "outputs": [
        {
          "output_type": "stream",
          "text": [
            "[('Roman', 10, 4.43) ('Egor', 10, 4.65) ('Elena', 10, 4.7 )\n",
            " ('Sergey', 10, 4.85)]\n"
          ],
          "name": "stdout"
        }
      ]
    },
    {
      "cell_type": "markdown",
      "metadata": {
        "id": "P_O3RZUR8SZ6"
      },
      "source": [
        "### Задача 7\n",
        "\n",
        "Создайте массив формы 5х5 из случайных целых чисел (промежуток на ваше усмотрение).\n",
        "\n",
        "* Выведите массив на экран\n",
        "\n",
        "В новой ячейке:\n",
        "\n",
        "* Получите на вход с помощью input два числа - координаты элемента в массиве (номер строки и номер столбца)\n",
        "\n",
        "* Выведите все 8 соседних элементов в любом формате.\n",
        "\n",
        "Подсказка: \n",
        "\n",
        "\n",
        "```\n",
        "* * * *\n",
        "* х х х\n",
        "* х о х\n",
        "* х х х\n",
        "```\n",
        "\n",
        "в примере выше для элемента \"о\" элементы \"х\" являются соседними\n",
        "\n",
        "* проведите серию экспериментов (указывайте разные координаты)\n",
        "обратите внимание, при каких значениях будет вылетать ошибка\n"
      ]
    },
    {
      "cell_type": "code",
      "metadata": {
        "id": "1WxHGbe89qsq",
        "colab": {
          "base_uri": "https://localhost:8080/",
          "height": 102
        },
        "outputId": "0388a8b5-2c2c-4da0-ddfa-b7b09e306224"
      },
      "source": [
        "import numpy as np\n",
        "my_array7=np.arange(1,26).reshape(5,5)\n",
        "my_array7\n"
      ],
      "execution_count": null,
      "outputs": [
        {
          "output_type": "execute_result",
          "data": {
            "text/plain": [
              "array([[ 1,  2,  3,  4,  5],\n",
              "       [ 6,  7,  8,  9, 10],\n",
              "       [11, 12, 13, 14, 15],\n",
              "       [16, 17, 18, 19, 20],\n",
              "       [21, 22, 23, 24, 25]])"
            ]
          },
          "metadata": {
            "tags": []
          },
          "execution_count": 1
        }
      ]
    },
    {
      "cell_type": "code",
      "metadata": {
        "id": "bLJcuLuCQdGQ",
        "colab": {
          "base_uri": "https://localhost:8080/",
          "height": 68
        },
        "outputId": "a1749aaa-b5a6-49c2-b368-7bb55860f2fb"
      },
      "source": [
        "my_array7[1:4,1:4]"
      ],
      "execution_count": null,
      "outputs": [
        {
          "output_type": "execute_result",
          "data": {
            "text/plain": [
              "array([[ 7,  8,  9],\n",
              "       [12, 13, 14],\n",
              "       [17, 18, 19]])"
            ]
          },
          "metadata": {
            "tags": []
          },
          "execution_count": 7
        }
      ]
    },
    {
      "cell_type": "code",
      "metadata": {
        "id": "leDl7w1RNPGZ",
        "colab": {
          "base_uri": "https://localhost:8080/",
          "height": 85
        },
        "outputId": "b641aeec-edef-4d82-c51b-ab35ccabcebd"
      },
      "source": [
        "a=int(input('Введите координату 1: '))\n",
        "b=int(input('Введите координату 2: '))\n",
        "print(my_array7[a,b])\n",
        "my_array7[a-1:a+2,b-1:b+2]"
      ],
      "execution_count": null,
      "outputs": [
        {
          "output_type": "stream",
          "text": [
            "Введите координату 1: 0\n",
            "Введите координату 2: 1\n",
            "2\n"
          ],
          "name": "stdout"
        },
        {
          "output_type": "execute_result",
          "data": {
            "text/plain": [
              "array([], shape=(0, 3), dtype=int64)"
            ]
          },
          "metadata": {
            "tags": []
          },
          "execution_count": 9
        }
      ]
    }
  ]
}